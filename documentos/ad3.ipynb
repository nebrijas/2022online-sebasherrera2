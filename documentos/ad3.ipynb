{
 "cells": [
  {
   "cell_type": "markdown",
   "id": "93f01f8e",
   "metadata": {},
   "source": [
    "# Actividad dirigida 3\n",
    "\n",
    "A continuación, haremos un ejercicio de programación literaria utilizando un código de programación con Python que ya existe. A través de esta actividad nos adentraremos al mundo del *web scraping*."
   ]
  },
  {
   "cell_type": "markdown",
   "id": "60c0af33",
   "metadata": {},
   "source": [
    "Instalación de librerías\n",
    "Para realizar con éxito el web scraping lo primero que tenemos que hacer es instalar la librería con la función \"!pip\"."
   ]
  },
  {
   "cell_type": "code",
   "execution_count": 2,
   "id": "3cafc02b",
   "metadata": {},
   "outputs": [
    {
     "name": "stdout",
     "output_type": "stream",
     "text": [
      "Requirement already satisfied: requests in c:\\users\\windows\\anaconda3\\lib\\site-packages (2.28.1)\n",
      "Requirement already satisfied: bs4 in c:\\users\\windows\\anaconda3\\lib\\site-packages (0.0.1)\n",
      "Requirement already satisfied: pandas in c:\\users\\windows\\anaconda3\\lib\\site-packages (1.4.4)\n",
      "Requirement already satisfied: termcolor in c:\\users\\windows\\anaconda3\\lib\\site-packages (2.1.1)\n",
      "Requirement already satisfied: charset-normalizer<3,>=2 in c:\\users\\windows\\anaconda3\\lib\\site-packages (from requests) (2.0.4)\n",
      "Requirement already satisfied: idna<4,>=2.5 in c:\\users\\windows\\anaconda3\\lib\\site-packages (from requests) (3.3)\n",
      "Requirement already satisfied: urllib3<1.27,>=1.21.1 in c:\\users\\windows\\anaconda3\\lib\\site-packages (from requests) (1.26.11)\n",
      "Requirement already satisfied: certifi>=2017.4.17 in c:\\users\\windows\\anaconda3\\lib\\site-packages (from requests) (2022.9.14)\n",
      "Requirement already satisfied: beautifulsoup4 in c:\\users\\windows\\anaconda3\\lib\\site-packages (from bs4) (4.11.1)\n",
      "Requirement already satisfied: pytz>=2020.1 in c:\\users\\windows\\anaconda3\\lib\\site-packages (from pandas) (2022.1)\n",
      "Requirement already satisfied: python-dateutil>=2.8.1 in c:\\users\\windows\\anaconda3\\lib\\site-packages (from pandas) (2.8.2)\n",
      "Requirement already satisfied: numpy>=1.18.5 in c:\\users\\windows\\anaconda3\\lib\\site-packages (from pandas) (1.21.5)\n",
      "Requirement already satisfied: six>=1.5 in c:\\users\\windows\\anaconda3\\lib\\site-packages (from python-dateutil>=2.8.1->pandas) (1.16.0)\n",
      "Requirement already satisfied: soupsieve>1.2 in c:\\users\\windows\\anaconda3\\lib\\site-packages (from beautifulsoup4->bs4) (2.3.1)\n"
     ]
    }
   ],
   "source": [
    "!pip install requests bs4 pandas termcolor"
   ]
  },
  {
   "cell_type": "markdown",
   "id": "93cdc52c",
   "metadata": {},
   "source": [
    "## Librerías internas\n",
    "\n",
    "Ahora, instalaremos las librerías internas. Este procedimiento se puede hacer con todas al tiempo. De la siguiente manera:"
   ]
  },
  {
   "cell_type": "code",
   "execution_count": 4,
   "id": "45e4da5d",
   "metadata": {},
   "outputs": [],
   "source": [
    "import requests\n",
    "import time\n",
    "import csv\n",
    "import re\n",
    "from bs4 import BeautifulSoup\n",
    "import os\n",
    "import pandas as pd\n",
    "from termcolor import colored"
   ]
  },
  {
   "cell_type": "markdown",
   "id": "c0c3f997",
   "metadata": {},
   "source": [
    "## Crear variable\n",
    "\n",
    "Crearemos una variable para tener control de nuestros resultados. Las variables se asignan con el símbolo \"=\". En este caso se denominara \"resultados\"."
   ]
  },
  {
   "cell_type": "code",
   "execution_count": 5,
   "id": "134f859a",
   "metadata": {},
   "outputs": [],
   "source": [
    "resultados = []"
   ]
  },
  {
   "cell_type": "markdown",
   "id": "bbbc72fd",
   "metadata": {},
   "source": [
    "## Acceso a los datos\n",
    "\n",
    "A continuación, haremos una petición para obtener los datos y de esa manera avanzar con el *scraping*. En este caso se descargará únicamente la información de El País. "
   ]
  },
  {
   "cell_type": "code",
   "execution_count": 6,
   "id": "abbbeeee",
   "metadata": {},
   "outputs": [],
   "source": [
    "req = requests.get(\"https://resultados.elpais.com\")"
   ]
  },
  {
   "cell_type": "markdown",
   "id": "9dc549f6",
   "metadata": {},
   "source": [
    "## Condicional\n",
    "\n",
    "Ahora, le pondremos un condicional con el que nos aseguraremos que los resultados que pedimos sean los que queremos. En caso de que el valor de regreso no sea 200 nos arrojará un error."
   ]
  },
  {
   "cell_type": "code",
   "execution_count": 7,
   "id": "7f869e55",
   "metadata": {},
   "outputs": [],
   "source": [
    "if (req.status_code != 200):\n",
    " raise Exception(\"No se puede hacer Web Scraping en\"+ URL)"
   ]
  },
  {
   "cell_type": "markdown",
   "id": "7eae769d",
   "metadata": {},
   "source": [
    "## Agregamos librería\n",
    "\n",
    "La librería BeautifulSoup nos permitirá extraer la información solicitada en HTML. "
   ]
  },
  {
   "cell_type": "code",
   "execution_count": 8,
   "id": "62b3919c",
   "metadata": {},
   "outputs": [],
   "source": [
    "soup = BeautifulSoup(req.text, 'html.parser')"
   ]
  },
  {
   "cell_type": "markdown",
   "id": "2ba2065f",
   "metadata": {},
   "source": [
    "Agregaremos una nueva variable para que traiga únicamente la información que le solicitamos. Esta vez queremos encontrar todas las etiquetas \"h2\"."
   ]
  },
  {
   "cell_type": "code",
   "execution_count": 9,
   "id": "92b9c497",
   "metadata": {},
   "outputs": [],
   "source": [
    "tags = soup.findAll(\"h2\")"
   ]
  },
  {
   "cell_type": "markdown",
   "id": "36376b43",
   "metadata": {},
   "source": [
    "De la siguiente manera le pediremos que nos imprima los textos que necesitamos. Además, agregaremos la función \"resultados.append(h2.text)\" con el cual se añaden todos los textos dentro de las etiquetas a la lista que hemos creado."
   ]
  },
  {
   "cell_type": "code",
   "execution_count": 11,
   "id": "b0e56cf6",
   "metadata": {},
   "outputs": [
    {
     "name": "stdout",
     "output_type": "stream",
     "text": [
      "El Mundial, en vivo\n",
      "Universo Mundial\n",
      "El calendario a seguir desde América\n",
      "¿Quién va a ganar? Simulador y pronóstico de cada selección \n",
      "La ‘newsletter’\n",
      "Radiografía del descontento chino\n",
      "El Metro de Bogotá pone la primera piedra tras mil proyectos, cero estaciones y una discusión eterna\n",
      "Lula da a su esposa Rosangela Silva protagonismo en la transición en Brasil\n",
      "Radiografía a Carabineros de Chile tres años después del estallido social\n",
      "El régimen de excepción de Nayib Bukele asfixia a las pandillas: “Policías y soldados tienen poder absoluto” \n",
      "Una esperanza bajo tierra: tras el último rastro de los migrantes desaparecidos rumbo a Estados Unidos\n",
      "La reinvención de la extrema derecha en América Latina\n",
      "Las mareas subterráneas de la ola rosa latinoamericana\n",
      "Messi lleva a hombros a Argentina ante Australia (2-1)\n",
      "Al estilo argentino\n",
      "Rashford quiere volver a los penaltis\n",
      "Tuteladas, discriminadas: así vive la mujer de Qatar\n",
      "Una nueva generación de escritores latinoamericanos restablece los puentes con España\n",
      "Las nuevas voces que se abren paso en la FIL de Guadalajara\n",
      "Un libro en las manos para no sentirse solo\n",
      "Cuáles son las opciones para una negociación entre Rusia y Ucrania\n",
      "La caravana de la muerte de Kurilivka: una superviviente relata la matanza de 26 civiles que huían de la guerra\n",
      "“Jugamos al rugby para transformar vidas”: el deporte que desarticuló 11 bandas delictivas de Venezuela\n",
      "Un discurso de Allende para las nuevas generaciones\n",
      "La filósofa Amia Srinivasan: “Las mujeres deben ser iguales... ¿a qué clase de hombres?\n",
      "Ciencia a toda velocidad: los años increíbles en los que hubo más coches eléctricos que de gasolina\n",
      "Oriol Vinyals: “Nuestra generación verá una inteligencia artificial que iguale o supere a la del ser humano”\n",
      "Las mentiras que dinamitaron la carrera de The Doors\n",
      "Ideas de regalos para el jardinero\n",
      "Guía de regalos para el ‘foodie’\n",
      "La supervivencia de la sabana brasileña se decide en los despachos de Bruselas\n",
      "El ‘palacio’ de la familia Orbán se erige como símbolo de la corrupción en Hungría\n",
      "Los libaneses ‘roban’ su propio dinero en los bancos a punta de pistola y con bidones de gasolina\n",
      "Cuba, el precipicio y el cambio pendiente\n",
      "Marcela Ángel: “Tenemos que cerrar la brecha entre academia y territorio”\n",
      "El exitoso colegio chileno que forma “agentes frente al cambio climático”\n",
      "Pacientes de VIH contra Guatemala: “Si fuera por el Estado, estaríamos muertos”\n",
      "José Antonio Marina: “Que se haya puesto de moda la felicidad es catastrófico”\n",
      "El Padre, El Hijo y El Espíritu Santo de ella\n",
      "El trágico final de Gérard Philipe, el ‘príncipe de actores’ al que la Nouvelle Vague ninguneó\n",
      "Las vidas largas\n",
      "Historia de un robo: así se recuperó un manuscrito firmado por Hernán Cortés hace casi 500 años\n",
      "¿Selfie sí o selfie no en Art Basel?\n",
      "De las galerías a las calles: así se hizo importante Miami para el arte del mundo\n",
      "Cómo el pacto de dos amigas logró que Fleetwood Mac sobreviviera al caos, el sexismo y la cocaína\n",
      "La vida bajo los focos de Sadie Sink: una infancia en Broadway y una adolescencia en ‘Stranger Things’\n",
      "Todos quieren a Dwayne Johnson\n",
      "Shakira niega una relación sentimental con su instructor de surf: “No tengo ninguna pareja”\n",
      "El ‘conseguidor’ español que sedujo a las constructoras en América\n",
      "Las islas del Caribe colombiano que desaparecen por el cambio climático\n",
      "La tragedia en la frontera de Melilla: el papel de Marruecos y España en las muertes del 24-J\n",
      "Un tatuaje y un bebé en el nombre de Mircea Cărtărescu\n",
      "Qatar 2022, el único Mundial donde es posible ver dos partidos en un mismo día\n",
      "¿Qué estrella tuvo el mejor debut en el Mundial? El ‘tier list’ de Jesús Gallego, Bruno Alemany y Aritz Gabilondo\n",
      "Enredados en el Mundial | Los jugadores iraníes vuelven a cantar el himno y ha nacido una estrella en EE UU\n",
      "El negocio de la nostalgia del fútbol en Colombia\n",
      "‘Tu opinión es una mierda’: la campaña que alerta sobre los peligros de la polarización\n",
      "Venezuela tiene escasez de sacerdotes\n",
      "Why Russia-Ukraine peace talks won’t be happening anytime soon  \n",
      "Following the FTX bankruptcy, an expert liquidator has been searching for all the missing money \n",
      "How Nazi propaganda dehumanized Jews to facilitate the Holocaust\n",
      "Joseph Henrich, evolutionary anthropologist: ‘The best antidote to white supremacy is more science’   \n",
      "Americanas: Reportajes y noticias sobre feminismo e historias con enfoque de género de la región\n",
      "Toda la actualidad científica en el boletín de Materia\n",
      "Letras Americanas: la actualidad literaria de un continente vista por el escritor Emiliano Monge\n",
      "Ideas: reportajes y entrevistas para entender el mundo\n",
      "China relaja las medidas anticovid en Guangzhou para frenar nuevas protestas\n",
      "Hungría evita la confrontación con Bruselas y confía en desbloquear los fondos europeos en 2023 \n",
      "Muere el expresidente de China Jiang Zemin\n",
      "López Obrador da su aprobación para que ‘el rey del cobre’ Germán Larrea compre Banamex\n",
      "Los desafíos al proceso de transición ecológica\n",
      "Estos picos han enamorado al chef José Andrés y están hasta en las mesas de Corea del Sur\n",
      "Para acabar con la violencia de género, necesitamos más mujeres en posiciones de poder \n",
      "Mirian Galán, una de las mejores profesoras del mundo: “El niño no falla. Si suspende, ha suspendido el docente” \n",
      "¿Adiós a los anuncios con coches para niños y cocinas para niñas? Los jugueteros pactan desterrar los estereotipos sexistas en la publicidad\n",
      "La respuesta a la guerra en Ucrania también es literaria\n",
      "Lo más escuchado en Spotify en 2022: solo Rosalía se coloca en España en una lista dominada por hombres latinos\n",
      "Muere Christine McVie, cantante y teclista de la legendaria banda Fleetwood Mac, a los 79 años\n",
      "Bill Hansson, experto en olfato: “No compres feromonas para intentar conseguir sexo, no funciona. Mejor trabaja en tu personalidad”\n",
      "Javier de Felipe, neurocientífico: “Me encantaría ser un perro durante un par de minutos” \n",
      "Un proyecto enseña a los robots a crear nuevas herramientas, como los primeros humanos\n",
      "Haliburton alumbra Indiana\n",
      "‘Vivir con miedo’, por Daniel Verdú\n",
      "Brasil entierra un tabú homófobo de casi un siglo y alinea a un futbolista con el 24\n",
      "El medio ambiente tensiona a los socios del Gobierno valenciano \n",
      "Los drones que sobrevuelan el futuro de la agricultura\n",
      "100 euros por un caballo viejo para hacerlo filetes: la Guardia Civil desarticula una red que producía carne equina no apta para consumo\n",
      "Oriol Vinyals: “Nuestra generación verá una inteligencia artificial que iguale o supere a la del ser humano”\n",
      "“Ser malos”, Sam Va Lentín y el hilo de Bartual: los tuits que merecen pasar a la historia de internet\n",
      "Desafíos criptográficos: epílogo y solución del último reto\n",
      "La Policía señala Valladolid como posible provincia de origen de los seis sobres con artefactos pirotécnicos \n",
      "Las discrepancias en seis artículos ralentizan el tramo final de la reforma de la ‘ley mordaza’\n",
      "El nombramiento del exministro Campo que el PP denuncia ante Bruselas es común en Francia, Alemania, Italia y Bélgica\n",
      "‘Masterchef’ contra el teletrabajo\n",
      "Belén Barenys, protagonista de ‘Autodefensa’: “Ninguna de mis amigas tiene una relación normal con el sexo o con los hombres”\n",
      "‘MasterChef’ cocina con la polémica como ingrediente estrella\n",
      "Shakira y Piqué sellan su acuerdo de separación en Barcelona ante el juez\n",
      "Los actores de ‘Love Actually’ se reencuentran: ¿qué ha sido de ellos 19 años después?\n",
      "Acuerdo de divorcio entre Kim Kardashian y Kanye West: custodia compartida y 200.000 dólares de pensión\n",
      "Becky G: cómo alcanzar el sueño americano cantando en español\n",
      "Un viaje por el Maine de Stephen King\n",
      "La polarización es como las drogas: engancha\n",
      "Descansar está mal visto: el arte perdido del reposo\n",
      "Madrid, la nueva Miami: así se han hecho con la capital los ricos latinoamericanos\n",
      "Si no tiene ahorros, esta es una de las pocas alternativas para comprar casa\n",
      "Roe Ethridge, el fructífero intercambio entre el arte y el comercio\n",
      "‘La última vez’, de Guillermo Martínez: un laberinto con final milagrosamente imprevisible\n",
      " “En Somalia, cuando aún estamos tratando de reponernos de un golpe, enseguida nos viene el siguiente”\n",
      "Una agricultura climáticamente inteligente para resistir a las turbulencias económicas y sociales  \n",
      "Oyambre, Son Bou y otras nueve playas españolas para un baño de historia\n",
      "Cómo actuar ante el caos de los aeropuertos: qué hacer frente a retrasos y cancelaciones de un vuelo\n",
      "El lamentable caso de Anne Hathaway o por qué se odia a algunas famosas sin justificación ninguna\n",
      "Samantha Hudson: “Me va bien económicamante, pero no soy Paula Echevarría”\n",
      "“Tobogán de piojos”, “genocida de oxígeno”... Por qué cada Mundial recuerda el poderío del español como idioma para insultar\n",
      "Alejandro Jato, el actor que será Camilo Sesto: “Da pena la imagen que los jóvenes tienen de él, con lo grande que fue”\n",
      "Menú semanal de El Comidista (5 a 11 de diciembre)\n",
      "Té para todos: 13 tiendas especializadas donde comprarlo en España\n",
      "Inversión verde: pros y contras de una estrategia en revisión\n",
      "Iturralde González explica el segundo gol de Japón: “Las imágenes que salen son muy tramposas”\n",
      "'The Economist' sorprende al analizar así la situación política de España y decir esto de Sánchez\n",
      "Cunha, rumbo a la Premier\n",
      "Twitter, TikTok y el algoritmo polarizador. nostalgia de la cámara de eco\n",
      "Las mejores películas de la Historia del Cine según la mítica revista del BFI\n"
     ]
    }
   ],
   "source": [
    "for h2 in tags:\n",
    "    print(h2.text)\n",
    "    resultados.append(h2.text)"
   ]
  },
  {
   "cell_type": "markdown",
   "id": "0bc63d8a",
   "metadata": {},
   "source": [
    "## Repetición\n",
    "\n",
    "Este mismo proceso se repetirá en las diferentes secciones de las que queremos extraer la información. Por ejemplo, sección \"internacional\"."
   ]
  },
  {
   "cell_type": "code",
   "execution_count": 12,
   "id": "fdd0fad7",
   "metadata": {},
   "outputs": [
    {
     "name": "stdout",
     "output_type": "stream",
     "text": [
      "Radiografía del descontento chino\n",
      "La caravana de la muerte de Kurilivka: una superviviente relata la matanza de 26 civiles que huían de la guerra en Ucrania\n",
      "Los libaneses ‘roban’ su propio dinero en los bancos a punta de pistola y con bidones de gasolina\n",
      "¿‘Nuestros’ principios o los de todos?\n",
      "China hierve contra la covid cero\n",
      "Una globalización centrada en los seres humanos\n",
      "Autocracia en crisis\n",
      "“¿De qué color es el hambre, mamá?”\n",
      "El régimen de excepción de Nayib Bukele asfixia a las pandillas: “Policías y soldados tienen poder absoluto” \n",
      "El ‘palacio’ de la familia Orbán se erige como símbolo de la corrupción en Hungría\n",
      "Por qué la negociación para la paz en Ucrania queda lejos\n",
      "La UE acuerda imponer un tope de 60 dólares al petróleo ruso para golpear las finanzas del Kremlin\n",
      "Más de 400 rusos buscan protección en España: “No quiero formar parte de este crimen contra Ucrania”\n",
      "El tope al petróleo ruso: un golpe más para Moscú, pero lejos de ser letal\n",
      "Zelenski pide prohibir en Ucrania la Iglesia ortodoxa apadrinada por Rusia\n",
      "Rusia apunta en su primera lista negra a las organizaciones LGTBI e incluirá a los críticos con el alistamiento militar \n",
      "El boyante negocio de vender equipación militar en Ucrania: “Lo que más compran es ropa térmica; ya hace frío”\n",
      "Las protestas en China se refugian en las redes sociales de Occidente\n",
      "Corea del Norte vive un frenesí armamentístico con el lanzamiento de casi 70 misiles en 2022\n",
      "Nueva York, el gran supermercado legal de la marihuana\n",
      "Cuba, el precipicio y el cambio pendiente\n",
      "Lula negocia con el Congreso de Brasil cómo pagar su gran promesa electoral\n",
      "Reaparece el fantasma del control de precios en Venezuela con el repunte de la inflación\n",
      "El feminicidio de García Belsunce sigue impune: la justicia argentina absuelve al imputado\n"
     ]
    }
   ],
   "source": [
    "req2 = requests.get(\"https://elpais.com/internacional\")\n",
    "# Si el estatus code no es 200 no se puede leer la página\n",
    "if (req.status_code != 200):\n",
    " raise Exception(\"No se puede hacer Web Scraping en\"+ URL)\n",
    "soup2 = BeautifulSoup(req2.text, 'html.parser')\n",
    "\n",
    "tags = soup2.findAll(\"h2\")\n",
    "\n",
    "for h2 in tags:\n",
    "    print(h2.text)\n",
    "    resultados.append(h2.text)"
   ]
  },
  {
   "cell_type": "markdown",
   "id": "9bbac8e9",
   "metadata": {},
   "source": [
    "También lo podríamos hacer con la sección de \"opinión\"."
   ]
  },
  {
   "cell_type": "code",
   "execution_count": 13,
   "id": "4e8fdb53",
   "metadata": {},
   "outputs": [
    {
     "name": "stdout",
     "output_type": "stream",
     "text": [
      "China se mueve \n",
      "El malestar de los médicos\n",
      "Naufragios de la ciencia española\n",
      "El castigo a Ucrania\n",
      "‘A compás’\n",
      "La ciudad cambia o caduca\n",
      "Feijóo: luna decreciente\n",
      "¿‘Nuestros’ principios o los de todos?\n",
      "Newman, Marías, la posteridad\n",
      "¡Al suelo!\n",
      "Saquen a la cultura del lodazal\n",
      "Hungría: democracia o multa\n",
      "Repatriación urgente de las familias de yihadistas\n",
      "En el espejo del cine\n",
      "El sexo (todavía) importa (demasiado)\n",
      "El Roto\n",
      "Flavita Banana\n",
      "Riki Blanco\n",
      "Peridis\n",
      "Sciammarella\n",
      "Envía tu carta\n",
      "Protestas en China e Irán\n",
      "La salud es más importante que la báscula\n",
      "Así funciona la corrupción\n",
      "Noticias positivas en tiempos caóticos\n",
      "Bomba nuclear en Barcelona\n",
      "Una maldita lista en tiempos airados\n",
      "El defensor del lector contesta\n"
     ]
    }
   ],
   "source": [
    "req3 = requests.get(\"https://elpais.com/opinion\")\n",
    "# Si el estatus code no es 200 no se puede leer la página\n",
    "if (req.status_code != 200):\n",
    " raise Exception(\"No se puede hacer Web Scraping en\"+ URL)\n",
    "soup3 = BeautifulSoup(req3.text, 'html.parser')\n",
    "\n",
    "tags = soup3.findAll(\"h2\")\n",
    "\n",
    "for h2 in tags:\n",
    "    print(h2.text)\n",
    "    resultados.append(h2.text)"
   ]
  },
  {
   "cell_type": "markdown",
   "id": "9142dc29",
   "metadata": {},
   "source": [
    "## Hora de la limpieza\n",
    "\n",
    "Usaremos la función \"os.system(clear)\" para que se haga una limpieza después del *scraping*. Esta paso es necesario para que el trabajo de impresión se haga de manera adecuada."
   ]
  },
  {
   "cell_type": "code",
   "execution_count": 14,
   "id": "046fa367",
   "metadata": {},
   "outputs": [
    {
     "data": {
      "text/plain": [
       "1"
      ]
     },
     "execution_count": 14,
     "metadata": {},
     "output_type": "execute_result"
    }
   ],
   "source": [
    "os.system(\"clear\")"
   ]
  },
  {
   "cell_type": "markdown",
   "id": "85ab729b",
   "metadata": {},
   "source": [
    "Posteriormente, jugaremos un poco con el estilo. Todos los titulares que tengan la palabra “Feminismo” tendrán un color verde y **negrita**."
   ]
  },
  {
   "cell_type": "code",
   "execution_count": 15,
   "id": "6f4b3548",
   "metadata": {},
   "outputs": [
    {
     "name": "stdout",
     "output_type": "stream",
     "text": [
      "A continuación se muestran los titulares de las páginas principales del diario El País que contienen las siguientes palabras:\n",
      "Feminismo\n",
      "Americanas: Reportajes y noticias sobre feminismo e historias con enfoque de género de la región\n",
      "Americanas: Reportajes y noticias sobre feminismo e historias con enfoque de género de la región\n"
     ]
    }
   ],
   "source": [
    "print(colored(\"A continuación se muestran los titulares de las páginas principales del diario El País que contienen las siguientes palabras:\", 'blue', attrs=['bold']))\n",
    "print(colored(\"Feminismo\", 'green', attrs=['bold']))\n",
    "\n",
    "str_match = [s for s in resultados if \"feminismo\" in s]\n",
    "print(\"\\n\".join(str_match))"
   ]
  },
  {
   "cell_type": "markdown",
   "id": "4a39bf8f",
   "metadata": {},
   "source": [
    "Este proceso se puede repetir con las demás palabras que se requieran en secciones específicas."
   ]
  },
  {
   "cell_type": "code",
   "execution_count": 17,
   "id": "462cc3c0",
   "metadata": {},
   "outputs": [
    {
     "name": "stdout",
     "output_type": "stream",
     "text": [
      "Igualdad\n",
      "\n",
      "Mujeres\n",
      "La filósofa Amia Srinivasan: “Las mujeres deben ser iguales... ¿a qué clase de hombres?\n",
      "Para acabar con la violencia de género, necesitamos más mujeres en posiciones de poder \n",
      "La filósofa Amia Srinivasan: “Las mujeres deben ser iguales... ¿a qué clase de hombres?\n",
      "Para acabar con la violencia de género, necesitamos más mujeres en posiciones de poder \n",
      "Mujer\n",
      "Tuteladas, discriminadas: así vive la mujer de Qatar\n",
      "La filósofa Amia Srinivasan: “Las mujeres deben ser iguales... ¿a qué clase de hombres?\n",
      "Para acabar con la violencia de género, necesitamos más mujeres en posiciones de poder \n",
      "Tuteladas, discriminadas: así vive la mujer de Qatar\n",
      "La filósofa Amia Srinivasan: “Las mujeres deben ser iguales... ¿a qué clase de hombres?\n",
      "Para acabar con la violencia de género, necesitamos más mujeres en posiciones de poder \n",
      "Brecha salarial\n",
      "\n",
      "Machismo\n",
      "\n",
      "Violencia\n",
      "Para acabar con la violencia de género, necesitamos más mujeres en posiciones de poder \n",
      "Para acabar con la violencia de género, necesitamos más mujeres en posiciones de poder \n",
      "Maltrato\n",
      "\n",
      "Homicidio\n",
      "\n",
      "Género\n",
      "Americanas: Reportajes y noticias sobre feminismo e historias con enfoque de género de la región\n",
      "Para acabar con la violencia de género, necesitamos más mujeres en posiciones de poder \n",
      "Americanas: Reportajes y noticias sobre feminismo e historias con enfoque de género de la región\n",
      "Para acabar con la violencia de género, necesitamos más mujeres en posiciones de poder \n",
      "Asesinato\n",
      "\n",
      "Sexo\n",
      "Bill Hansson, experto en olfato: “No compres feromonas para intentar conseguir sexo, no funciona. Mejor trabaja en tu personalidad”\n",
      "Belén Barenys, protagonista de ‘Autodefensa’: “Ninguna de mis amigas tiene una relación normal con el sexo o con los hombres”\n",
      "Bill Hansson, experto en olfato: “No compres feromonas para intentar conseguir sexo, no funciona. Mejor trabaja en tu personalidad”\n",
      "Belén Barenys, protagonista de ‘Autodefensa’: “Ninguna de mis amigas tiene una relación normal con el sexo o con los hombres”\n",
      "El sexo (todavía) importa (demasiado)\n"
     ]
    }
   ],
   "source": [
    "print(colored(\"Igualdad\", 'green', attrs=['bold']))\n",
    "\n",
    "str_match = [s for s in resultados if \"igualdad\" in s]\n",
    "print(\"\\n\".join(str_match))\n",
    "\n",
    "print(colored(\"Mujeres\", 'green', attrs=['bold']))\n",
    "\n",
    "str_match = [s for s in resultados if \"mujeres\" in s]\n",
    "print(\"\\n\".join(str_match))\n",
    "\n",
    "print(colored(\"Mujer\", 'green', attrs=['bold']))\n",
    "\n",
    "str_match = [s for s in resultados if \"mujer\" in s]\n",
    "print(\"\\n\".join(str_match))\n",
    "\n",
    "print(colored(\"Brecha salarial\", 'green', attrs=['bold']))\n",
    "\n",
    "str_match = [s for s in resultados if \"brecha salarial\" in s]\n",
    "print(\"\\n\".join(str_match))\n",
    "\n",
    "print(colored(\"Machismo\", 'green', attrs=['bold']))\n",
    "\n",
    "str_match = [s for s in resultados if \"machismo\" in s]\n",
    "print(\"\\n\".join(str_match))\n",
    "\n",
    "print(colored(\"Violencia\", 'green', attrs=['bold']))\n",
    "\n",
    "str_match = [s for s in resultados if \"violencia\" in s]\n",
    "print(\"\\n\".join(str_match))\n",
    "\n",
    "print(colored(\"Maltrato\", 'green', attrs=['bold']))\n",
    "\n",
    "str_match = [s for s in resultados if \"maltrato\" in s]\n",
    "print(\"\\n\".join(str_match))\n",
    "\n",
    "print(colored(\"Homicidio\", 'green', attrs=['bold']))\n",
    "\n",
    "str_match = [s for s in resultados if \"homicidio\" in s]\n",
    "print(\"\\n\".join(str_match))\n",
    "\n",
    "print(colored(\"Género\", 'green', attrs=['bold']))\n",
    "\n",
    "str_match = [s for s in resultados if \"género\" in s]\n",
    "print(\"\\n\".join(str_match))\n",
    "\n",
    "print(colored(\"Asesinato\", 'green', attrs=['bold']))\n",
    "\n",
    "str_match = [s for s in resultados if \"asesinato\" in s]\n",
    "print(\"\\n\".join(str_match))\n",
    "\n",
    "print(colored(\"Sexo\", 'green', attrs=['bold']))\n",
    "\n",
    "str_match = [s for s in resultados if \"sexo\" in s]\n",
    "print(\"\\n\".join(str_match))"
   ]
  }
 ],
 "metadata": {
  "kernelspec": {
   "display_name": "Python 3 (ipykernel)",
   "language": "python",
   "name": "python3"
  },
  "language_info": {
   "codemirror_mode": {
    "name": "ipython",
    "version": 3
   },
   "file_extension": ".py",
   "mimetype": "text/x-python",
   "name": "python",
   "nbconvert_exporter": "python",
   "pygments_lexer": "ipython3",
   "version": "3.9.13"
  }
 },
 "nbformat": 4,
 "nbformat_minor": 5
}
