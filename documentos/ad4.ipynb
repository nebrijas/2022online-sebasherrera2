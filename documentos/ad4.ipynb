{
 "cells": [
  {
   "cell_type": "markdown",
   "id": "26de8680",
   "metadata": {},
   "source": [
    "# Actividad 4: Uso de Pandas"
   ]
  },
  {
   "cell_type": "markdown",
   "id": "02c1c1e2",
   "metadata": {},
   "source": [
    "Para realizar la Actividad Dirigida 4 utilizaremos \"Pandas\", la librería de Python. En este caso continuaremos con el ejercicio en clase y trabajaremos con los datos de Covid-19 de Ecuador, República Dominicana y España.\n",
    "\n",
    "La URL: https://api.covid19api.com/countries"
   ]
  },
  {
   "cell_type": "markdown",
   "id": "e545f1c7",
   "metadata": {},
   "source": [
    "## Instalación de librerías:\n",
    "\n",
    "Para instalar la librería instalaremos la función \"!pip\". La exclamación es necesaria porque no estamos ejecutando Python, sino bash."
   ]
  },
  {
   "cell_type": "code",
   "execution_count": 1,
   "id": "149cc854",
   "metadata": {},
   "outputs": [
    {
     "name": "stdout",
     "output_type": "stream",
     "text": [
      "Requirement already satisfied: pandas in c:\\users\\windows\\anaconda3\\lib\\site-packages (1.4.4)\n",
      "Requirement already satisfied: pytz>=2020.1 in c:\\users\\windows\\anaconda3\\lib\\site-packages (from pandas) (2022.1)\n",
      "Requirement already satisfied: numpy>=1.18.5 in c:\\users\\windows\\anaconda3\\lib\\site-packages (from pandas) (1.21.5)\n",
      "Requirement already satisfied: python-dateutil>=2.8.1 in c:\\users\\windows\\anaconda3\\lib\\site-packages (from pandas) (2.8.2)\n",
      "Requirement already satisfied: six>=1.5 in c:\\users\\windows\\anaconda3\\lib\\site-packages (from python-dateutil>=2.8.1->pandas) (1.16.0)\n"
     ]
    }
   ],
   "source": [
    "!pip install pandas"
   ]
  },
  {
   "cell_type": "markdown",
   "id": "d1b618cd",
   "metadata": {},
   "source": [
    "## Configuración de Pandas\n",
    "\n",
    "Para importar utilizaremos la convención \"pd\" como abrebiatura para llamar a la librería."
   ]
  },
  {
   "cell_type": "code",
   "execution_count": 2,
   "id": "0fa126d4",
   "metadata": {},
   "outputs": [],
   "source": [
    "import pandas as pd"
   ]
  },
  {
   "cell_type": "markdown",
   "id": "46d96586",
   "metadata": {},
   "source": [
    "## Crear variable\n",
    "\n",
    "Las variables se asignan con el símbolo \"=\" y los escribimos entrecomillados por ser una cadena de caracteres."
   ]
  },
  {
   "cell_type": "code",
   "execution_count": 4,
   "id": "3cc0c915",
   "metadata": {},
   "outputs": [],
   "source": [
    "url = \"https://api.covid19api.com/countries\""
   ]
  },
  {
   "cell_type": "code",
   "execution_count": 10,
   "id": "4f14822e",
   "metadata": {},
   "outputs": [
    {
     "data": {
      "text/plain": [
       "'https://api.covid19api.com/countries'"
      ]
     },
     "execution_count": 10,
     "metadata": {},
     "output_type": "execute_result"
    }
   ],
   "source": [
    "url"
   ]
  },
  {
   "cell_type": "markdown",
   "id": "3cf1ecca",
   "metadata": {},
   "source": [
    "## Crear dataframe\n",
    "\n",
    "La abreviatura que se emplea para los dataframe es \"df\". Existe una función \"read_json()\" que lo que hace es leer el formato \"json\". Dentro del paréntesis indicaremos el valor de lo que queremos que lea, en este caso la url."
   ]
  },
  {
   "cell_type": "code",
   "execution_count": 11,
   "id": "9bbd5e20",
   "metadata": {},
   "outputs": [],
   "source": [
    "df = pd.read_json(url)"
   ]
  },
  {
   "cell_type": "markdown",
   "id": "1538969e",
   "metadata": {},
   "source": [
    "Para visualizar los datos llamamos al objeto. Observamos una tabla que contiene tres columnas y una columna de control de Pandas, que identifica cada una de las entradas del dataframe."
   ]
  },
  {
   "cell_type": "code",
   "execution_count": 13,
   "id": "15ea9afc",
   "metadata": {},
   "outputs": [
    {
     "data": {
      "text/html": [
       "<div>\n",
       "<style scoped>\n",
       "    .dataframe tbody tr th:only-of-type {\n",
       "        vertical-align: middle;\n",
       "    }\n",
       "\n",
       "    .dataframe tbody tr th {\n",
       "        vertical-align: top;\n",
       "    }\n",
       "\n",
       "    .dataframe thead th {\n",
       "        text-align: right;\n",
       "    }\n",
       "</style>\n",
       "<table border=\"1\" class=\"dataframe\">\n",
       "  <thead>\n",
       "    <tr style=\"text-align: right;\">\n",
       "      <th></th>\n",
       "      <th>Country</th>\n",
       "      <th>Slug</th>\n",
       "      <th>ISO2</th>\n",
       "    </tr>\n",
       "  </thead>\n",
       "  <tbody>\n",
       "    <tr>\n",
       "      <th>0</th>\n",
       "      <td>Ecuador</td>\n",
       "      <td>ecuador</td>\n",
       "      <td>EC</td>\n",
       "    </tr>\n",
       "    <tr>\n",
       "      <th>1</th>\n",
       "      <td>French Polynesia</td>\n",
       "      <td>french-polynesia</td>\n",
       "      <td>PF</td>\n",
       "    </tr>\n",
       "    <tr>\n",
       "      <th>2</th>\n",
       "      <td>Greenland</td>\n",
       "      <td>greenland</td>\n",
       "      <td>GL</td>\n",
       "    </tr>\n",
       "    <tr>\n",
       "      <th>3</th>\n",
       "      <td>Honduras</td>\n",
       "      <td>honduras</td>\n",
       "      <td>HN</td>\n",
       "    </tr>\n",
       "    <tr>\n",
       "      <th>4</th>\n",
       "      <td>Martinique</td>\n",
       "      <td>martinique</td>\n",
       "      <td>MQ</td>\n",
       "    </tr>\n",
       "    <tr>\n",
       "      <th>...</th>\n",
       "      <td>...</td>\n",
       "      <td>...</td>\n",
       "      <td>...</td>\n",
       "    </tr>\n",
       "    <tr>\n",
       "      <th>243</th>\n",
       "      <td>Côte d'Ivoire</td>\n",
       "      <td>cote-divoire</td>\n",
       "      <td>CI</td>\n",
       "    </tr>\n",
       "    <tr>\n",
       "      <th>244</th>\n",
       "      <td>Eritrea</td>\n",
       "      <td>eritrea</td>\n",
       "      <td>ER</td>\n",
       "    </tr>\n",
       "    <tr>\n",
       "      <th>245</th>\n",
       "      <td>Faroe Islands</td>\n",
       "      <td>faroe-islands</td>\n",
       "      <td>FO</td>\n",
       "    </tr>\n",
       "    <tr>\n",
       "      <th>246</th>\n",
       "      <td>Niger</td>\n",
       "      <td>niger</td>\n",
       "      <td>NE</td>\n",
       "    </tr>\n",
       "    <tr>\n",
       "      <th>247</th>\n",
       "      <td>Singapore</td>\n",
       "      <td>singapore</td>\n",
       "      <td>SG</td>\n",
       "    </tr>\n",
       "  </tbody>\n",
       "</table>\n",
       "<p>248 rows × 3 columns</p>\n",
       "</div>"
      ],
      "text/plain": [
       "              Country              Slug ISO2\n",
       "0             Ecuador           ecuador   EC\n",
       "1    French Polynesia  french-polynesia   PF\n",
       "2           Greenland         greenland   GL\n",
       "3            Honduras          honduras   HN\n",
       "4          Martinique        martinique   MQ\n",
       "..                ...               ...  ...\n",
       "243     Côte d'Ivoire      cote-divoire   CI\n",
       "244           Eritrea           eritrea   ER\n",
       "245     Faroe Islands     faroe-islands   FO\n",
       "246             Niger             niger   NE\n",
       "247         Singapore         singapore   SG\n",
       "\n",
       "[248 rows x 3 columns]"
      ]
     },
     "execution_count": 13,
     "metadata": {},
     "output_type": "execute_result"
    }
   ],
   "source": [
    "df"
   ]
  },
  {
   "cell_type": "markdown",
   "id": "ec38267e",
   "metadata": {},
   "source": [
    "## Exploración de la tabla\n",
    "\n",
    "Para ver las primeras entradas de la tabla utilizamos la siguiente función. Como metemos el número 6 veremos las seis primeras observaciones."
   ]
  },
  {
   "cell_type": "code",
   "execution_count": 14,
   "id": "13abed33",
   "metadata": {},
   "outputs": [
    {
     "data": {
      "text/html": [
       "<div>\n",
       "<style scoped>\n",
       "    .dataframe tbody tr th:only-of-type {\n",
       "        vertical-align: middle;\n",
       "    }\n",
       "\n",
       "    .dataframe tbody tr th {\n",
       "        vertical-align: top;\n",
       "    }\n",
       "\n",
       "    .dataframe thead th {\n",
       "        text-align: right;\n",
       "    }\n",
       "</style>\n",
       "<table border=\"1\" class=\"dataframe\">\n",
       "  <thead>\n",
       "    <tr style=\"text-align: right;\">\n",
       "      <th></th>\n",
       "      <th>Country</th>\n",
       "      <th>Slug</th>\n",
       "      <th>ISO2</th>\n",
       "    </tr>\n",
       "  </thead>\n",
       "  <tbody>\n",
       "    <tr>\n",
       "      <th>0</th>\n",
       "      <td>Ecuador</td>\n",
       "      <td>ecuador</td>\n",
       "      <td>EC</td>\n",
       "    </tr>\n",
       "    <tr>\n",
       "      <th>1</th>\n",
       "      <td>French Polynesia</td>\n",
       "      <td>french-polynesia</td>\n",
       "      <td>PF</td>\n",
       "    </tr>\n",
       "    <tr>\n",
       "      <th>2</th>\n",
       "      <td>Greenland</td>\n",
       "      <td>greenland</td>\n",
       "      <td>GL</td>\n",
       "    </tr>\n",
       "    <tr>\n",
       "      <th>3</th>\n",
       "      <td>Honduras</td>\n",
       "      <td>honduras</td>\n",
       "      <td>HN</td>\n",
       "    </tr>\n",
       "    <tr>\n",
       "      <th>4</th>\n",
       "      <td>Martinique</td>\n",
       "      <td>martinique</td>\n",
       "      <td>MQ</td>\n",
       "    </tr>\n",
       "    <tr>\n",
       "      <th>5</th>\n",
       "      <td>Netherlands Antilles</td>\n",
       "      <td>netherlands-antilles</td>\n",
       "      <td>AN</td>\n",
       "    </tr>\n",
       "  </tbody>\n",
       "</table>\n",
       "</div>"
      ],
      "text/plain": [
       "                Country                  Slug ISO2\n",
       "0               Ecuador               ecuador   EC\n",
       "1      French Polynesia      french-polynesia   PF\n",
       "2             Greenland             greenland   GL\n",
       "3              Honduras              honduras   HN\n",
       "4            Martinique            martinique   MQ\n",
       "5  Netherlands Antilles  netherlands-antilles   AN"
      ]
     },
     "execution_count": 14,
     "metadata": {},
     "output_type": "execute_result"
    }
   ],
   "source": [
    "df.head(6)"
   ]
  },
  {
   "cell_type": "markdown",
   "id": "da433dc5",
   "metadata": {},
   "source": [
    "Para ver las 6 últimas entradas:"
   ]
  },
  {
   "cell_type": "code",
   "execution_count": 15,
   "id": "b099902a",
   "metadata": {},
   "outputs": [
    {
     "data": {
      "text/html": [
       "<div>\n",
       "<style scoped>\n",
       "    .dataframe tbody tr th:only-of-type {\n",
       "        vertical-align: middle;\n",
       "    }\n",
       "\n",
       "    .dataframe tbody tr th {\n",
       "        vertical-align: top;\n",
       "    }\n",
       "\n",
       "    .dataframe thead th {\n",
       "        text-align: right;\n",
       "    }\n",
       "</style>\n",
       "<table border=\"1\" class=\"dataframe\">\n",
       "  <thead>\n",
       "    <tr style=\"text-align: right;\">\n",
       "      <th></th>\n",
       "      <th>Country</th>\n",
       "      <th>Slug</th>\n",
       "      <th>ISO2</th>\n",
       "    </tr>\n",
       "  </thead>\n",
       "  <tbody>\n",
       "    <tr>\n",
       "      <th>242</th>\n",
       "      <td>Angola</td>\n",
       "      <td>angola</td>\n",
       "      <td>AO</td>\n",
       "    </tr>\n",
       "    <tr>\n",
       "      <th>243</th>\n",
       "      <td>Côte d'Ivoire</td>\n",
       "      <td>cote-divoire</td>\n",
       "      <td>CI</td>\n",
       "    </tr>\n",
       "    <tr>\n",
       "      <th>244</th>\n",
       "      <td>Eritrea</td>\n",
       "      <td>eritrea</td>\n",
       "      <td>ER</td>\n",
       "    </tr>\n",
       "    <tr>\n",
       "      <th>245</th>\n",
       "      <td>Faroe Islands</td>\n",
       "      <td>faroe-islands</td>\n",
       "      <td>FO</td>\n",
       "    </tr>\n",
       "    <tr>\n",
       "      <th>246</th>\n",
       "      <td>Niger</td>\n",
       "      <td>niger</td>\n",
       "      <td>NE</td>\n",
       "    </tr>\n",
       "    <tr>\n",
       "      <th>247</th>\n",
       "      <td>Singapore</td>\n",
       "      <td>singapore</td>\n",
       "      <td>SG</td>\n",
       "    </tr>\n",
       "  </tbody>\n",
       "</table>\n",
       "</div>"
      ],
      "text/plain": [
       "           Country           Slug ISO2\n",
       "242         Angola         angola   AO\n",
       "243  Côte d'Ivoire   cote-divoire   CI\n",
       "244        Eritrea        eritrea   ER\n",
       "245  Faroe Islands  faroe-islands   FO\n",
       "246          Niger          niger   NE\n",
       "247      Singapore      singapore   SG"
      ]
     },
     "execution_count": 15,
     "metadata": {},
     "output_type": "execute_result"
    }
   ],
   "source": [
    "df.tail(6)"
   ]
  },
  {
   "cell_type": "markdown",
   "id": "76437761",
   "metadata": {},
   "source": [
    "Para ver la información sobre las variables que contiene el dataframe utilizamos la siguiente función."
   ]
  },
  {
   "cell_type": "code",
   "execution_count": 16,
   "id": "e40a5ee8",
   "metadata": {},
   "outputs": [
    {
     "name": "stdout",
     "output_type": "stream",
     "text": [
      "<class 'pandas.core.frame.DataFrame'>\n",
      "RangeIndex: 248 entries, 0 to 247\n",
      "Data columns (total 3 columns):\n",
      " #   Column   Non-Null Count  Dtype \n",
      "---  ------   --------------  ----- \n",
      " 0   Country  248 non-null    object\n",
      " 1   Slug     248 non-null    object\n",
      " 2   ISO2     248 non-null    object\n",
      "dtypes: object(3)\n",
      "memory usage: 5.9+ KB\n"
     ]
    }
   ],
   "source": [
    "df.info()"
   ]
  },
  {
   "cell_type": "markdown",
   "id": "8a912804",
   "metadata": {},
   "source": [
    "Para visualizar solo una de las variables:"
   ]
  },
  {
   "cell_type": "code",
   "execution_count": 17,
   "id": "2bf212a5",
   "metadata": {},
   "outputs": [
    {
     "data": {
      "text/plain": [
       "0               Ecuador\n",
       "1      French Polynesia\n",
       "2             Greenland\n",
       "3              Honduras\n",
       "4            Martinique\n",
       "             ...       \n",
       "243       Côte d'Ivoire\n",
       "244             Eritrea\n",
       "245       Faroe Islands\n",
       "246               Niger\n",
       "247           Singapore\n",
       "Name: Country, Length: 248, dtype: object"
      ]
     },
     "execution_count": 17,
     "metadata": {},
     "output_type": "execute_result"
    }
   ],
   "source": [
    "df['Country']"
   ]
  },
  {
   "cell_type": "markdown",
   "id": "ceb3369f",
   "metadata": {},
   "source": [
    "Para visualizar un valor concreto de una de las variables:"
   ]
  },
  {
   "cell_type": "code",
   "execution_count": 19,
   "id": "c4ec70fe",
   "metadata": {},
   "outputs": [
    {
     "data": {
      "text/plain": [
       "'Saint Helena'"
      ]
     },
     "execution_count": 19,
     "metadata": {},
     "output_type": "execute_result"
    }
   ],
   "source": [
    "df['Country'][66]"
   ]
  },
  {
   "cell_type": "markdown",
   "id": "2290f12f",
   "metadata": {},
   "source": [
    "## Tiempo real\n",
    "\n",
    "La url que utilizaremos ahora es la siguiente https://api.covid19api.com/country/colombia/status/confirmed/live\n",
    "\n",
    "Guardaremos los datos de la misma manera que lo hicimos anteriormente, pero añadiendo \"df_col\" (abreviatura de Colombia para identificar que este dataframe es de este país concreto."
   ]
  },
  {
   "cell_type": "code",
   "execution_count": 48,
   "id": "ab872630",
   "metadata": {},
   "outputs": [
    {
     "data": {
      "text/html": [
       "<div>\n",
       "<style scoped>\n",
       "    .dataframe tbody tr th:only-of-type {\n",
       "        vertical-align: middle;\n",
       "    }\n",
       "\n",
       "    .dataframe tbody tr th {\n",
       "        vertical-align: top;\n",
       "    }\n",
       "\n",
       "    .dataframe thead th {\n",
       "        text-align: right;\n",
       "    }\n",
       "</style>\n",
       "<table border=\"1\" class=\"dataframe\">\n",
       "  <thead>\n",
       "    <tr style=\"text-align: right;\">\n",
       "      <th></th>\n",
       "      <th>Country</th>\n",
       "      <th>CountryCode</th>\n",
       "      <th>Province</th>\n",
       "      <th>City</th>\n",
       "      <th>CityCode</th>\n",
       "      <th>Lat</th>\n",
       "      <th>Lon</th>\n",
       "      <th>Cases</th>\n",
       "      <th>Status</th>\n",
       "      <th>Date</th>\n",
       "    </tr>\n",
       "  </thead>\n",
       "  <tbody>\n",
       "    <tr>\n",
       "      <th>0</th>\n",
       "      <td>Colombia</td>\n",
       "      <td>CO</td>\n",
       "      <td></td>\n",
       "      <td></td>\n",
       "      <td></td>\n",
       "      <td>4.57</td>\n",
       "      <td>-74.3</td>\n",
       "      <td>0</td>\n",
       "      <td>confirmed</td>\n",
       "      <td>2020-01-22 00:00:00+00:00</td>\n",
       "    </tr>\n",
       "    <tr>\n",
       "      <th>1</th>\n",
       "      <td>Colombia</td>\n",
       "      <td>CO</td>\n",
       "      <td></td>\n",
       "      <td></td>\n",
       "      <td></td>\n",
       "      <td>4.57</td>\n",
       "      <td>-74.3</td>\n",
       "      <td>0</td>\n",
       "      <td>confirmed</td>\n",
       "      <td>2020-01-23 00:00:00+00:00</td>\n",
       "    </tr>\n",
       "    <tr>\n",
       "      <th>2</th>\n",
       "      <td>Colombia</td>\n",
       "      <td>CO</td>\n",
       "      <td></td>\n",
       "      <td></td>\n",
       "      <td></td>\n",
       "      <td>4.57</td>\n",
       "      <td>-74.3</td>\n",
       "      <td>0</td>\n",
       "      <td>confirmed</td>\n",
       "      <td>2020-01-24 00:00:00+00:00</td>\n",
       "    </tr>\n",
       "    <tr>\n",
       "      <th>3</th>\n",
       "      <td>Colombia</td>\n",
       "      <td>CO</td>\n",
       "      <td></td>\n",
       "      <td></td>\n",
       "      <td></td>\n",
       "      <td>4.57</td>\n",
       "      <td>-74.3</td>\n",
       "      <td>0</td>\n",
       "      <td>confirmed</td>\n",
       "      <td>2020-01-25 00:00:00+00:00</td>\n",
       "    </tr>\n",
       "    <tr>\n",
       "      <th>4</th>\n",
       "      <td>Colombia</td>\n",
       "      <td>CO</td>\n",
       "      <td></td>\n",
       "      <td></td>\n",
       "      <td></td>\n",
       "      <td>4.57</td>\n",
       "      <td>-74.3</td>\n",
       "      <td>0</td>\n",
       "      <td>confirmed</td>\n",
       "      <td>2020-01-26 00:00:00+00:00</td>\n",
       "    </tr>\n",
       "    <tr>\n",
       "      <th>...</th>\n",
       "      <td>...</td>\n",
       "      <td>...</td>\n",
       "      <td>...</td>\n",
       "      <td>...</td>\n",
       "      <td>...</td>\n",
       "      <td>...</td>\n",
       "      <td>...</td>\n",
       "      <td>...</td>\n",
       "      <td>...</td>\n",
       "      <td>...</td>\n",
       "    </tr>\n",
       "    <tr>\n",
       "      <th>1042</th>\n",
       "      <td>Colombia</td>\n",
       "      <td>CO</td>\n",
       "      <td></td>\n",
       "      <td></td>\n",
       "      <td></td>\n",
       "      <td>4.57</td>\n",
       "      <td>-74.3</td>\n",
       "      <td>6312657</td>\n",
       "      <td>confirmed</td>\n",
       "      <td>2022-11-29 00:00:00+00:00</td>\n",
       "    </tr>\n",
       "    <tr>\n",
       "      <th>1043</th>\n",
       "      <td>Colombia</td>\n",
       "      <td>CO</td>\n",
       "      <td></td>\n",
       "      <td></td>\n",
       "      <td></td>\n",
       "      <td>4.57</td>\n",
       "      <td>-74.3</td>\n",
       "      <td>6312657</td>\n",
       "      <td>confirmed</td>\n",
       "      <td>2022-11-30 00:00:00+00:00</td>\n",
       "    </tr>\n",
       "    <tr>\n",
       "      <th>1044</th>\n",
       "      <td>Colombia</td>\n",
       "      <td>CO</td>\n",
       "      <td></td>\n",
       "      <td></td>\n",
       "      <td></td>\n",
       "      <td>4.57</td>\n",
       "      <td>-74.3</td>\n",
       "      <td>6312657</td>\n",
       "      <td>confirmed</td>\n",
       "      <td>2022-12-01 00:00:00+00:00</td>\n",
       "    </tr>\n",
       "    <tr>\n",
       "      <th>1045</th>\n",
       "      <td>Colombia</td>\n",
       "      <td>CO</td>\n",
       "      <td></td>\n",
       "      <td></td>\n",
       "      <td></td>\n",
       "      <td>4.57</td>\n",
       "      <td>-74.3</td>\n",
       "      <td>6314107</td>\n",
       "      <td>confirmed</td>\n",
       "      <td>2022-12-02 00:00:00+00:00</td>\n",
       "    </tr>\n",
       "    <tr>\n",
       "      <th>1046</th>\n",
       "      <td>Colombia</td>\n",
       "      <td>CO</td>\n",
       "      <td></td>\n",
       "      <td></td>\n",
       "      <td></td>\n",
       "      <td>4.57</td>\n",
       "      <td>-74.3</td>\n",
       "      <td>6314107</td>\n",
       "      <td>confirmed</td>\n",
       "      <td>2022-12-03 00:00:00+00:00</td>\n",
       "    </tr>\n",
       "  </tbody>\n",
       "</table>\n",
       "<p>1047 rows × 10 columns</p>\n",
       "</div>"
      ],
      "text/plain": [
       "       Country CountryCode Province City CityCode   Lat   Lon    Cases  \\\n",
       "0     Colombia          CO                         4.57 -74.3        0   \n",
       "1     Colombia          CO                         4.57 -74.3        0   \n",
       "2     Colombia          CO                         4.57 -74.3        0   \n",
       "3     Colombia          CO                         4.57 -74.3        0   \n",
       "4     Colombia          CO                         4.57 -74.3        0   \n",
       "...        ...         ...      ...  ...      ...   ...   ...      ...   \n",
       "1042  Colombia          CO                         4.57 -74.3  6312657   \n",
       "1043  Colombia          CO                         4.57 -74.3  6312657   \n",
       "1044  Colombia          CO                         4.57 -74.3  6312657   \n",
       "1045  Colombia          CO                         4.57 -74.3  6314107   \n",
       "1046  Colombia          CO                         4.57 -74.3  6314107   \n",
       "\n",
       "         Status                      Date  \n",
       "0     confirmed 2020-01-22 00:00:00+00:00  \n",
       "1     confirmed 2020-01-23 00:00:00+00:00  \n",
       "2     confirmed 2020-01-24 00:00:00+00:00  \n",
       "3     confirmed 2020-01-25 00:00:00+00:00  \n",
       "4     confirmed 2020-01-26 00:00:00+00:00  \n",
       "...         ...                       ...  \n",
       "1042  confirmed 2022-11-29 00:00:00+00:00  \n",
       "1043  confirmed 2022-11-30 00:00:00+00:00  \n",
       "1044  confirmed 2022-12-01 00:00:00+00:00  \n",
       "1045  confirmed 2022-12-02 00:00:00+00:00  \n",
       "1046  confirmed 2022-12-03 00:00:00+00:00  \n",
       "\n",
       "[1047 rows x 10 columns]"
      ]
     },
     "execution_count": 48,
     "metadata": {},
     "output_type": "execute_result"
    }
   ],
   "source": [
    "url_col = 'https://api.covid19api.com/country/colombia/status/confirmed/live'\n",
    "df_col = pd.read_json(url_col)\n",
    "df_col"
   ]
  },
  {
   "cell_type": "markdown",
   "id": "e9a7df6e",
   "metadata": {},
   "source": [
    "## Exploración de datos\n",
    "\n",
    "Por columnas:"
   ]
  },
  {
   "cell_type": "code",
   "execution_count": 49,
   "id": "47b21679",
   "metadata": {},
   "outputs": [
    {
     "data": {
      "text/plain": [
       "Index(['Country', 'CountryCode', 'Province', 'City', 'CityCode', 'Lat', 'Lon',\n",
       "       'Cases', 'Status', 'Date'],\n",
       "      dtype='object')"
      ]
     },
     "execution_count": 49,
     "metadata": {},
     "output_type": "execute_result"
    }
   ],
   "source": [
    "df_col.columns"
   ]
  },
  {
   "cell_type": "markdown",
   "id": "4c2ea809",
   "metadata": {},
   "source": [
    "Cabecera"
   ]
  },
  {
   "cell_type": "code",
   "execution_count": 50,
   "id": "68ba497c",
   "metadata": {},
   "outputs": [
    {
     "data": {
      "text/plain": [
       "<bound method NDFrame.head of        Country CountryCode Province City CityCode   Lat   Lon    Cases  \\\n",
       "0     Colombia          CO                         4.57 -74.3        0   \n",
       "1     Colombia          CO                         4.57 -74.3        0   \n",
       "2     Colombia          CO                         4.57 -74.3        0   \n",
       "3     Colombia          CO                         4.57 -74.3        0   \n",
       "4     Colombia          CO                         4.57 -74.3        0   \n",
       "...        ...         ...      ...  ...      ...   ...   ...      ...   \n",
       "1042  Colombia          CO                         4.57 -74.3  6312657   \n",
       "1043  Colombia          CO                         4.57 -74.3  6312657   \n",
       "1044  Colombia          CO                         4.57 -74.3  6312657   \n",
       "1045  Colombia          CO                         4.57 -74.3  6314107   \n",
       "1046  Colombia          CO                         4.57 -74.3  6314107   \n",
       "\n",
       "         Status                      Date  \n",
       "0     confirmed 2020-01-22 00:00:00+00:00  \n",
       "1     confirmed 2020-01-23 00:00:00+00:00  \n",
       "2     confirmed 2020-01-24 00:00:00+00:00  \n",
       "3     confirmed 2020-01-25 00:00:00+00:00  \n",
       "4     confirmed 2020-01-26 00:00:00+00:00  \n",
       "...         ...                       ...  \n",
       "1042  confirmed 2022-11-29 00:00:00+00:00  \n",
       "1043  confirmed 2022-11-30 00:00:00+00:00  \n",
       "1044  confirmed 2022-12-01 00:00:00+00:00  \n",
       "1045  confirmed 2022-12-02 00:00:00+00:00  \n",
       "1046  confirmed 2022-12-03 00:00:00+00:00  \n",
       "\n",
       "[1047 rows x 10 columns]>"
      ]
     },
     "execution_count": 50,
     "metadata": {},
     "output_type": "execute_result"
    }
   ],
   "source": [
    "df_col.head"
   ]
  },
  {
   "cell_type": "markdown",
   "id": "0fe8ae21",
   "metadata": {},
   "source": [
    "Cola"
   ]
  },
  {
   "cell_type": "code",
   "execution_count": 29,
   "id": "d3851050",
   "metadata": {},
   "outputs": [
    {
     "data": {
      "text/plain": [
       "<bound method NDFrame.tail of        Country CountryCode Province City CityCode   Lat   Lon    Cases  \\\n",
       "0     Colombia          CO                         4.57 -74.3        0   \n",
       "1     Colombia          CO                         4.57 -74.3        0   \n",
       "2     Colombia          CO                         4.57 -74.3        0   \n",
       "3     Colombia          CO                         4.57 -74.3        0   \n",
       "4     Colombia          CO                         4.57 -74.3        0   \n",
       "...        ...         ...      ...  ...      ...   ...   ...      ...   \n",
       "1042  Colombia          CO                         4.57 -74.3  6312657   \n",
       "1043  Colombia          CO                         4.57 -74.3  6312657   \n",
       "1044  Colombia          CO                         4.57 -74.3  6312657   \n",
       "1045  Colombia          CO                         4.57 -74.3  6314107   \n",
       "1046  Colombia          CO                         4.57 -74.3  6314107   \n",
       "\n",
       "         Status                      Date  \n",
       "0     confirmed 2020-01-22 00:00:00+00:00  \n",
       "1     confirmed 2020-01-23 00:00:00+00:00  \n",
       "2     confirmed 2020-01-24 00:00:00+00:00  \n",
       "3     confirmed 2020-01-25 00:00:00+00:00  \n",
       "4     confirmed 2020-01-26 00:00:00+00:00  \n",
       "...         ...                       ...  \n",
       "1042  confirmed 2022-11-29 00:00:00+00:00  \n",
       "1043  confirmed 2022-11-30 00:00:00+00:00  \n",
       "1044  confirmed 2022-12-01 00:00:00+00:00  \n",
       "1045  confirmed 2022-12-02 00:00:00+00:00  \n",
       "1046  confirmed 2022-12-03 00:00:00+00:00  \n",
       "\n",
       "[1047 rows x 10 columns]>"
      ]
     },
     "execution_count": 29,
     "metadata": {},
     "output_type": "execute_result"
    }
   ],
   "source": [
    "df_col.tail"
   ]
  },
  {
   "cell_type": "markdown",
   "id": "58743184",
   "metadata": {},
   "source": [
    "Información sobre las variables"
   ]
  },
  {
   "cell_type": "code",
   "execution_count": 31,
   "id": "5a88f1a9",
   "metadata": {},
   "outputs": [
    {
     "data": {
      "text/plain": [
       "<bound method DataFrame.info of        Country CountryCode Province City CityCode   Lat   Lon    Cases  \\\n",
       "0     Colombia          CO                         4.57 -74.3        0   \n",
       "1     Colombia          CO                         4.57 -74.3        0   \n",
       "2     Colombia          CO                         4.57 -74.3        0   \n",
       "3     Colombia          CO                         4.57 -74.3        0   \n",
       "4     Colombia          CO                         4.57 -74.3        0   \n",
       "...        ...         ...      ...  ...      ...   ...   ...      ...   \n",
       "1042  Colombia          CO                         4.57 -74.3  6312657   \n",
       "1043  Colombia          CO                         4.57 -74.3  6312657   \n",
       "1044  Colombia          CO                         4.57 -74.3  6312657   \n",
       "1045  Colombia          CO                         4.57 -74.3  6314107   \n",
       "1046  Colombia          CO                         4.57 -74.3  6314107   \n",
       "\n",
       "         Status                      Date  \n",
       "0     confirmed 2020-01-22 00:00:00+00:00  \n",
       "1     confirmed 2020-01-23 00:00:00+00:00  \n",
       "2     confirmed 2020-01-24 00:00:00+00:00  \n",
       "3     confirmed 2020-01-25 00:00:00+00:00  \n",
       "4     confirmed 2020-01-26 00:00:00+00:00  \n",
       "...         ...                       ...  \n",
       "1042  confirmed 2022-11-29 00:00:00+00:00  \n",
       "1043  confirmed 2022-11-30 00:00:00+00:00  \n",
       "1044  confirmed 2022-12-01 00:00:00+00:00  \n",
       "1045  confirmed 2022-12-02 00:00:00+00:00  \n",
       "1046  confirmed 2022-12-03 00:00:00+00:00  \n",
       "\n",
       "[1047 rows x 10 columns]>"
      ]
     },
     "execution_count": 31,
     "metadata": {},
     "output_type": "execute_result"
    }
   ],
   "source": [
    "df_col.info"
   ]
  },
  {
   "cell_type": "markdown",
   "id": "a345c42a",
   "metadata": {},
   "source": [
    "Para obtener una descripción estadística de las variables numéricas del dataframe (obtenemos el número total, la media, la desviación, el mínimo y máximo y los cuartiles):"
   ]
  },
  {
   "cell_type": "code",
   "execution_count": 32,
   "id": "42c69655",
   "metadata": {},
   "outputs": [
    {
     "data": {
      "text/html": [
       "<div>\n",
       "<style scoped>\n",
       "    .dataframe tbody tr th:only-of-type {\n",
       "        vertical-align: middle;\n",
       "    }\n",
       "\n",
       "    .dataframe tbody tr th {\n",
       "        vertical-align: top;\n",
       "    }\n",
       "\n",
       "    .dataframe thead th {\n",
       "        text-align: right;\n",
       "    }\n",
       "</style>\n",
       "<table border=\"1\" class=\"dataframe\">\n",
       "  <thead>\n",
       "    <tr style=\"text-align: right;\">\n",
       "      <th></th>\n",
       "      <th>Lat</th>\n",
       "      <th>Lon</th>\n",
       "      <th>Cases</th>\n",
       "    </tr>\n",
       "  </thead>\n",
       "  <tbody>\n",
       "    <tr>\n",
       "      <th>count</th>\n",
       "      <td>1.047000e+03</td>\n",
       "      <td>1.047000e+03</td>\n",
       "      <td>1.047000e+03</td>\n",
       "    </tr>\n",
       "    <tr>\n",
       "      <th>mean</th>\n",
       "      <td>4.570000e+00</td>\n",
       "      <td>-7.430000e+01</td>\n",
       "      <td>3.444014e+06</td>\n",
       "    </tr>\n",
       "    <tr>\n",
       "      <th>std</th>\n",
       "      <td>1.866066e-14</td>\n",
       "      <td>1.464418e-12</td>\n",
       "      <td>2.438811e+06</td>\n",
       "    </tr>\n",
       "    <tr>\n",
       "      <th>min</th>\n",
       "      <td>4.570000e+00</td>\n",
       "      <td>-7.430000e+01</td>\n",
       "      <td>0.000000e+00</td>\n",
       "    </tr>\n",
       "    <tr>\n",
       "      <th>25%</th>\n",
       "      <td>4.570000e+00</td>\n",
       "      <td>-7.430000e+01</td>\n",
       "      <td>8.985235e+05</td>\n",
       "    </tr>\n",
       "    <tr>\n",
       "      <th>50%</th>\n",
       "      <td>4.570000e+00</td>\n",
       "      <td>-7.430000e+01</td>\n",
       "      <td>4.187194e+06</td>\n",
       "    </tr>\n",
       "    <tr>\n",
       "      <th>75%</th>\n",
       "      <td>4.570000e+00</td>\n",
       "      <td>-7.430000e+01</td>\n",
       "      <td>6.078859e+06</td>\n",
       "    </tr>\n",
       "    <tr>\n",
       "      <th>max</th>\n",
       "      <td>4.570000e+00</td>\n",
       "      <td>-7.430000e+01</td>\n",
       "      <td>6.314107e+06</td>\n",
       "    </tr>\n",
       "  </tbody>\n",
       "</table>\n",
       "</div>"
      ],
      "text/plain": [
       "                Lat           Lon         Cases\n",
       "count  1.047000e+03  1.047000e+03  1.047000e+03\n",
       "mean   4.570000e+00 -7.430000e+01  3.444014e+06\n",
       "std    1.866066e-14  1.464418e-12  2.438811e+06\n",
       "min    4.570000e+00 -7.430000e+01  0.000000e+00\n",
       "25%    4.570000e+00 -7.430000e+01  8.985235e+05\n",
       "50%    4.570000e+00 -7.430000e+01  4.187194e+06\n",
       "75%    4.570000e+00 -7.430000e+01  6.078859e+06\n",
       "max    4.570000e+00 -7.430000e+01  6.314107e+06"
      ]
     },
     "execution_count": 32,
     "metadata": {},
     "output_type": "execute_result"
    }
   ],
   "source": [
    "df_col.describe()"
   ]
  },
  {
   "cell_type": "markdown",
   "id": "aa69ba21",
   "metadata": {},
   "source": [
    "## Elaboración de un gráfico\n",
    "Para elaborar el gráfico en el eje X la fecha y en el eje Y los datos confirmados.\n",
    "Para ello vamos a establecer la fecha como índice de la función. Esto hace que nuestras entradas se identifiquen por la fecha y no por el índice que le había dado Pandas en un inicio."
   ]
  },
  {
   "cell_type": "code",
   "execution_count": 37,
   "id": "eae00664",
   "metadata": {},
   "outputs": [
    {
     "data": {
      "text/html": [
       "<div>\n",
       "<style scoped>\n",
       "    .dataframe tbody tr th:only-of-type {\n",
       "        vertical-align: middle;\n",
       "    }\n",
       "\n",
       "    .dataframe tbody tr th {\n",
       "        vertical-align: top;\n",
       "    }\n",
       "\n",
       "    .dataframe thead th {\n",
       "        text-align: right;\n",
       "    }\n",
       "</style>\n",
       "<table border=\"1\" class=\"dataframe\">\n",
       "  <thead>\n",
       "    <tr style=\"text-align: right;\">\n",
       "      <th></th>\n",
       "      <th>Country</th>\n",
       "      <th>CountryCode</th>\n",
       "      <th>Province</th>\n",
       "      <th>City</th>\n",
       "      <th>CityCode</th>\n",
       "      <th>Lat</th>\n",
       "      <th>Lon</th>\n",
       "      <th>Cases</th>\n",
       "      <th>Status</th>\n",
       "    </tr>\n",
       "    <tr>\n",
       "      <th>Date</th>\n",
       "      <th></th>\n",
       "      <th></th>\n",
       "      <th></th>\n",
       "      <th></th>\n",
       "      <th></th>\n",
       "      <th></th>\n",
       "      <th></th>\n",
       "      <th></th>\n",
       "      <th></th>\n",
       "    </tr>\n",
       "  </thead>\n",
       "  <tbody>\n",
       "    <tr>\n",
       "      <th>2020-01-22 00:00:00+00:00</th>\n",
       "      <td>Colombia</td>\n",
       "      <td>CO</td>\n",
       "      <td></td>\n",
       "      <td></td>\n",
       "      <td></td>\n",
       "      <td>4.57</td>\n",
       "      <td>-74.3</td>\n",
       "      <td>0</td>\n",
       "      <td>confirmed</td>\n",
       "    </tr>\n",
       "    <tr>\n",
       "      <th>2020-01-23 00:00:00+00:00</th>\n",
       "      <td>Colombia</td>\n",
       "      <td>CO</td>\n",
       "      <td></td>\n",
       "      <td></td>\n",
       "      <td></td>\n",
       "      <td>4.57</td>\n",
       "      <td>-74.3</td>\n",
       "      <td>0</td>\n",
       "      <td>confirmed</td>\n",
       "    </tr>\n",
       "    <tr>\n",
       "      <th>2020-01-24 00:00:00+00:00</th>\n",
       "      <td>Colombia</td>\n",
       "      <td>CO</td>\n",
       "      <td></td>\n",
       "      <td></td>\n",
       "      <td></td>\n",
       "      <td>4.57</td>\n",
       "      <td>-74.3</td>\n",
       "      <td>0</td>\n",
       "      <td>confirmed</td>\n",
       "    </tr>\n",
       "    <tr>\n",
       "      <th>2020-01-25 00:00:00+00:00</th>\n",
       "      <td>Colombia</td>\n",
       "      <td>CO</td>\n",
       "      <td></td>\n",
       "      <td></td>\n",
       "      <td></td>\n",
       "      <td>4.57</td>\n",
       "      <td>-74.3</td>\n",
       "      <td>0</td>\n",
       "      <td>confirmed</td>\n",
       "    </tr>\n",
       "    <tr>\n",
       "      <th>2020-01-26 00:00:00+00:00</th>\n",
       "      <td>Colombia</td>\n",
       "      <td>CO</td>\n",
       "      <td></td>\n",
       "      <td></td>\n",
       "      <td></td>\n",
       "      <td>4.57</td>\n",
       "      <td>-74.3</td>\n",
       "      <td>0</td>\n",
       "      <td>confirmed</td>\n",
       "    </tr>\n",
       "    <tr>\n",
       "      <th>...</th>\n",
       "      <td>...</td>\n",
       "      <td>...</td>\n",
       "      <td>...</td>\n",
       "      <td>...</td>\n",
       "      <td>...</td>\n",
       "      <td>...</td>\n",
       "      <td>...</td>\n",
       "      <td>...</td>\n",
       "      <td>...</td>\n",
       "    </tr>\n",
       "    <tr>\n",
       "      <th>2022-11-29 00:00:00+00:00</th>\n",
       "      <td>Colombia</td>\n",
       "      <td>CO</td>\n",
       "      <td></td>\n",
       "      <td></td>\n",
       "      <td></td>\n",
       "      <td>4.57</td>\n",
       "      <td>-74.3</td>\n",
       "      <td>6312657</td>\n",
       "      <td>confirmed</td>\n",
       "    </tr>\n",
       "    <tr>\n",
       "      <th>2022-11-30 00:00:00+00:00</th>\n",
       "      <td>Colombia</td>\n",
       "      <td>CO</td>\n",
       "      <td></td>\n",
       "      <td></td>\n",
       "      <td></td>\n",
       "      <td>4.57</td>\n",
       "      <td>-74.3</td>\n",
       "      <td>6312657</td>\n",
       "      <td>confirmed</td>\n",
       "    </tr>\n",
       "    <tr>\n",
       "      <th>2022-12-01 00:00:00+00:00</th>\n",
       "      <td>Colombia</td>\n",
       "      <td>CO</td>\n",
       "      <td></td>\n",
       "      <td></td>\n",
       "      <td></td>\n",
       "      <td>4.57</td>\n",
       "      <td>-74.3</td>\n",
       "      <td>6312657</td>\n",
       "      <td>confirmed</td>\n",
       "    </tr>\n",
       "    <tr>\n",
       "      <th>2022-12-02 00:00:00+00:00</th>\n",
       "      <td>Colombia</td>\n",
       "      <td>CO</td>\n",
       "      <td></td>\n",
       "      <td></td>\n",
       "      <td></td>\n",
       "      <td>4.57</td>\n",
       "      <td>-74.3</td>\n",
       "      <td>6314107</td>\n",
       "      <td>confirmed</td>\n",
       "    </tr>\n",
       "    <tr>\n",
       "      <th>2022-12-03 00:00:00+00:00</th>\n",
       "      <td>Colombia</td>\n",
       "      <td>CO</td>\n",
       "      <td></td>\n",
       "      <td></td>\n",
       "      <td></td>\n",
       "      <td>4.57</td>\n",
       "      <td>-74.3</td>\n",
       "      <td>6314107</td>\n",
       "      <td>confirmed</td>\n",
       "    </tr>\n",
       "  </tbody>\n",
       "</table>\n",
       "<p>1047 rows × 9 columns</p>\n",
       "</div>"
      ],
      "text/plain": [
       "                            Country CountryCode Province City CityCode   Lat  \\\n",
       "Date                                                                           \n",
       "2020-01-22 00:00:00+00:00  Colombia          CO                         4.57   \n",
       "2020-01-23 00:00:00+00:00  Colombia          CO                         4.57   \n",
       "2020-01-24 00:00:00+00:00  Colombia          CO                         4.57   \n",
       "2020-01-25 00:00:00+00:00  Colombia          CO                         4.57   \n",
       "2020-01-26 00:00:00+00:00  Colombia          CO                         4.57   \n",
       "...                             ...         ...      ...  ...      ...   ...   \n",
       "2022-11-29 00:00:00+00:00  Colombia          CO                         4.57   \n",
       "2022-11-30 00:00:00+00:00  Colombia          CO                         4.57   \n",
       "2022-12-01 00:00:00+00:00  Colombia          CO                         4.57   \n",
       "2022-12-02 00:00:00+00:00  Colombia          CO                         4.57   \n",
       "2022-12-03 00:00:00+00:00  Colombia          CO                         4.57   \n",
       "\n",
       "                            Lon    Cases     Status  \n",
       "Date                                                 \n",
       "2020-01-22 00:00:00+00:00 -74.3        0  confirmed  \n",
       "2020-01-23 00:00:00+00:00 -74.3        0  confirmed  \n",
       "2020-01-24 00:00:00+00:00 -74.3        0  confirmed  \n",
       "2020-01-25 00:00:00+00:00 -74.3        0  confirmed  \n",
       "2020-01-26 00:00:00+00:00 -74.3        0  confirmed  \n",
       "...                         ...      ...        ...  \n",
       "2022-11-29 00:00:00+00:00 -74.3  6312657  confirmed  \n",
       "2022-11-30 00:00:00+00:00 -74.3  6312657  confirmed  \n",
       "2022-12-01 00:00:00+00:00 -74.3  6312657  confirmed  \n",
       "2022-12-02 00:00:00+00:00 -74.3  6314107  confirmed  \n",
       "2022-12-03 00:00:00+00:00 -74.3  6314107  confirmed  \n",
       "\n",
       "[1047 rows x 9 columns]"
      ]
     },
     "execution_count": 37,
     "metadata": {},
     "output_type": "execute_result"
    }
   ],
   "source": [
    "df_col.set_index('Date')"
   ]
  },
  {
   "cell_type": "markdown",
   "id": "efc537b4",
   "metadata": {},
   "source": [
    "Como necesito una tabla que también refleje los casos confirmados crearemos una vista en la que ver el número de casos confirmados por fecha."
   ]
  },
  {
   "cell_type": "code",
   "execution_count": 38,
   "id": "d39ab6df",
   "metadata": {},
   "outputs": [
    {
     "data": {
      "text/plain": [
       "Date\n",
       "2020-01-22 00:00:00+00:00          0\n",
       "2020-01-23 00:00:00+00:00          0\n",
       "2020-01-24 00:00:00+00:00          0\n",
       "2020-01-25 00:00:00+00:00          0\n",
       "2020-01-26 00:00:00+00:00          0\n",
       "                              ...   \n",
       "2022-11-29 00:00:00+00:00    6312657\n",
       "2022-11-30 00:00:00+00:00    6312657\n",
       "2022-12-01 00:00:00+00:00    6312657\n",
       "2022-12-02 00:00:00+00:00    6314107\n",
       "2022-12-03 00:00:00+00:00    6314107\n",
       "Name: Cases, Length: 1047, dtype: int64"
      ]
     },
     "execution_count": 38,
     "metadata": {},
     "output_type": "execute_result"
    }
   ],
   "source": [
    "df_col.set_index('Date')['Cases']"
   ]
  },
  {
   "cell_type": "markdown",
   "id": "f7c4c243",
   "metadata": {},
   "source": [
    "Sobre esta vista creamos el gráfico a través de la función \"plot\"."
   ]
  },
  {
   "cell_type": "code",
   "execution_count": 41,
   "id": "5c312f1a",
   "metadata": {},
   "outputs": [
    {
     "data": {
      "text/plain": [
       "<AxesSubplot:xlabel='Date'>"
      ]
     },
     "execution_count": 41,
     "metadata": {},
     "output_type": "execute_result"
    },
    {
     "data": {
      "image/png": "[encoded data removed]",
      "text/plain": [
       "<Figure size 640x480 with 1 Axes>"
      ]
     },
     "metadata": {},
     "output_type": "display_data"
    }
   ],
   "source": [
    "df_col.set_index('Date')['Cases'].plot()"
   ]
  },
  {
   "cell_type": "markdown",
   "id": "6502501a",
   "metadata": {},
   "source": [
    "Nombramos nuestro gráfico con el atributo title:"
   ]
  },
  {
   "cell_type": "code",
   "execution_count": 44,
   "id": "1ac7d30b",
   "metadata": {},
   "outputs": [
    {
     "data": {
      "text/plain": [
       "<AxesSubplot:title={'center':'Casos de Covid19 en Colombia'}, xlabel='Date'>"
      ]
     },
     "execution_count": 44,
     "metadata": {},
     "output_type": "execute_result"
    },
    {
     "data": {
      "image/png": "[encoded data removed]",
      "text/plain": [
       "<Figure size 640x480 with 1 Axes>"
      ]
     },
     "metadata": {},
     "output_type": "display_data"
    }
   ],
   "source": [
    "df_col.set_index('Date')['Cases'].plot(title = \"Casos de Covid19 en Colombia\")"
   ]
  },
  {
   "cell_type": "markdown",
   "id": "e1e535b4",
   "metadata": {},
   "source": [
    "# Repetiremos el ejercicio con Ecuador"
   ]
  },
  {
   "cell_type": "markdown",
   "id": "6cc52688",
   "metadata": {},
   "source": [
    "Trabajeremos ahora con los datos de Ecuador. En este caso utilizaremos ahora la siguiente dirección https://api.covid19api.com/country/ecuador/status/confirmed/live\n",
    "\n",
    "Guardaremos los datos de la misma manera que lo hicimos anteriormente, pero añadiendo \"df_ecu\" (abreviatura de Ecuador para identificar que este dataframe es de este país concreto."
   ]
  },
  {
   "cell_type": "code",
   "execution_count": 46,
   "id": "f0cb9cad",
   "metadata": {},
   "outputs": [
    {
     "data": {
      "text/html": [
       "<div>\n",
       "<style scoped>\n",
       "    .dataframe tbody tr th:only-of-type {\n",
       "        vertical-align: middle;\n",
       "    }\n",
       "\n",
       "    .dataframe tbody tr th {\n",
       "        vertical-align: top;\n",
       "    }\n",
       "\n",
       "    .dataframe thead th {\n",
       "        text-align: right;\n",
       "    }\n",
       "</style>\n",
       "<table border=\"1\" class=\"dataframe\">\n",
       "  <thead>\n",
       "    <tr style=\"text-align: right;\">\n",
       "      <th></th>\n",
       "      <th>Country</th>\n",
       "      <th>CountryCode</th>\n",
       "      <th>Province</th>\n",
       "      <th>City</th>\n",
       "      <th>CityCode</th>\n",
       "      <th>Lat</th>\n",
       "      <th>Lon</th>\n",
       "      <th>Cases</th>\n",
       "      <th>Status</th>\n",
       "      <th>Date</th>\n",
       "    </tr>\n",
       "  </thead>\n",
       "  <tbody>\n",
       "    <tr>\n",
       "      <th>0</th>\n",
       "      <td>Ecuador</td>\n",
       "      <td>EC</td>\n",
       "      <td></td>\n",
       "      <td></td>\n",
       "      <td></td>\n",
       "      <td>-1.83</td>\n",
       "      <td>-78.18</td>\n",
       "      <td>0</td>\n",
       "      <td>confirmed</td>\n",
       "      <td>2020-01-22 00:00:00+00:00</td>\n",
       "    </tr>\n",
       "    <tr>\n",
       "      <th>1</th>\n",
       "      <td>Ecuador</td>\n",
       "      <td>EC</td>\n",
       "      <td></td>\n",
       "      <td></td>\n",
       "      <td></td>\n",
       "      <td>-1.83</td>\n",
       "      <td>-78.18</td>\n",
       "      <td>0</td>\n",
       "      <td>confirmed</td>\n",
       "      <td>2020-01-23 00:00:00+00:00</td>\n",
       "    </tr>\n",
       "    <tr>\n",
       "      <th>2</th>\n",
       "      <td>Ecuador</td>\n",
       "      <td>EC</td>\n",
       "      <td></td>\n",
       "      <td></td>\n",
       "      <td></td>\n",
       "      <td>-1.83</td>\n",
       "      <td>-78.18</td>\n",
       "      <td>0</td>\n",
       "      <td>confirmed</td>\n",
       "      <td>2020-01-24 00:00:00+00:00</td>\n",
       "    </tr>\n",
       "    <tr>\n",
       "      <th>3</th>\n",
       "      <td>Ecuador</td>\n",
       "      <td>EC</td>\n",
       "      <td></td>\n",
       "      <td></td>\n",
       "      <td></td>\n",
       "      <td>-1.83</td>\n",
       "      <td>-78.18</td>\n",
       "      <td>0</td>\n",
       "      <td>confirmed</td>\n",
       "      <td>2020-01-25 00:00:00+00:00</td>\n",
       "    </tr>\n",
       "    <tr>\n",
       "      <th>4</th>\n",
       "      <td>Ecuador</td>\n",
       "      <td>EC</td>\n",
       "      <td></td>\n",
       "      <td></td>\n",
       "      <td></td>\n",
       "      <td>-1.83</td>\n",
       "      <td>-78.18</td>\n",
       "      <td>0</td>\n",
       "      <td>confirmed</td>\n",
       "      <td>2020-01-26 00:00:00+00:00</td>\n",
       "    </tr>\n",
       "    <tr>\n",
       "      <th>...</th>\n",
       "      <td>...</td>\n",
       "      <td>...</td>\n",
       "      <td>...</td>\n",
       "      <td>...</td>\n",
       "      <td>...</td>\n",
       "      <td>...</td>\n",
       "      <td>...</td>\n",
       "      <td>...</td>\n",
       "      <td>...</td>\n",
       "      <td>...</td>\n",
       "    </tr>\n",
       "    <tr>\n",
       "      <th>1042</th>\n",
       "      <td>Ecuador</td>\n",
       "      <td>EC</td>\n",
       "      <td></td>\n",
       "      <td></td>\n",
       "      <td></td>\n",
       "      <td>-1.83</td>\n",
       "      <td>-78.18</td>\n",
       "      <td>1011132</td>\n",
       "      <td>confirmed</td>\n",
       "      <td>2022-11-29 00:00:00+00:00</td>\n",
       "    </tr>\n",
       "    <tr>\n",
       "      <th>1043</th>\n",
       "      <td>Ecuador</td>\n",
       "      <td>EC</td>\n",
       "      <td></td>\n",
       "      <td></td>\n",
       "      <td></td>\n",
       "      <td>-1.83</td>\n",
       "      <td>-78.18</td>\n",
       "      <td>1011132</td>\n",
       "      <td>confirmed</td>\n",
       "      <td>2022-11-30 00:00:00+00:00</td>\n",
       "    </tr>\n",
       "    <tr>\n",
       "      <th>1044</th>\n",
       "      <td>Ecuador</td>\n",
       "      <td>EC</td>\n",
       "      <td></td>\n",
       "      <td></td>\n",
       "      <td></td>\n",
       "      <td>-1.83</td>\n",
       "      <td>-78.18</td>\n",
       "      <td>1011132</td>\n",
       "      <td>confirmed</td>\n",
       "      <td>2022-12-01 00:00:00+00:00</td>\n",
       "    </tr>\n",
       "    <tr>\n",
       "      <th>1045</th>\n",
       "      <td>Ecuador</td>\n",
       "      <td>EC</td>\n",
       "      <td></td>\n",
       "      <td></td>\n",
       "      <td></td>\n",
       "      <td>-1.83</td>\n",
       "      <td>-78.18</td>\n",
       "      <td>1011132</td>\n",
       "      <td>confirmed</td>\n",
       "      <td>2022-12-02 00:00:00+00:00</td>\n",
       "    </tr>\n",
       "    <tr>\n",
       "      <th>1046</th>\n",
       "      <td>Ecuador</td>\n",
       "      <td>EC</td>\n",
       "      <td></td>\n",
       "      <td></td>\n",
       "      <td></td>\n",
       "      <td>-1.83</td>\n",
       "      <td>-78.18</td>\n",
       "      <td>1011132</td>\n",
       "      <td>confirmed</td>\n",
       "      <td>2022-12-03 00:00:00+00:00</td>\n",
       "    </tr>\n",
       "  </tbody>\n",
       "</table>\n",
       "<p>1047 rows × 10 columns</p>\n",
       "</div>"
      ],
      "text/plain": [
       "      Country CountryCode Province City CityCode   Lat    Lon    Cases  \\\n",
       "0     Ecuador          EC                        -1.83 -78.18        0   \n",
       "1     Ecuador          EC                        -1.83 -78.18        0   \n",
       "2     Ecuador          EC                        -1.83 -78.18        0   \n",
       "3     Ecuador          EC                        -1.83 -78.18        0   \n",
       "4     Ecuador          EC                        -1.83 -78.18        0   \n",
       "...       ...         ...      ...  ...      ...   ...    ...      ...   \n",
       "1042  Ecuador          EC                        -1.83 -78.18  1011132   \n",
       "1043  Ecuador          EC                        -1.83 -78.18  1011132   \n",
       "1044  Ecuador          EC                        -1.83 -78.18  1011132   \n",
       "1045  Ecuador          EC                        -1.83 -78.18  1011132   \n",
       "1046  Ecuador          EC                        -1.83 -78.18  1011132   \n",
       "\n",
       "         Status                      Date  \n",
       "0     confirmed 2020-01-22 00:00:00+00:00  \n",
       "1     confirmed 2020-01-23 00:00:00+00:00  \n",
       "2     confirmed 2020-01-24 00:00:00+00:00  \n",
       "3     confirmed 2020-01-25 00:00:00+00:00  \n",
       "4     confirmed 2020-01-26 00:00:00+00:00  \n",
       "...         ...                       ...  \n",
       "1042  confirmed 2022-11-29 00:00:00+00:00  \n",
       "1043  confirmed 2022-11-30 00:00:00+00:00  \n",
       "1044  confirmed 2022-12-01 00:00:00+00:00  \n",
       "1045  confirmed 2022-12-02 00:00:00+00:00  \n",
       "1046  confirmed 2022-12-03 00:00:00+00:00  \n",
       "\n",
       "[1047 rows x 10 columns]"
      ]
     },
     "execution_count": 46,
     "metadata": {},
     "output_type": "execute_result"
    }
   ],
   "source": [
    "url_ecu = 'https://api.covid19api.com/country/ecuador/status/confirmed/live'\n",
    "df_ecu = pd.read_json(url_ecu)\n",
    "df_ecu"
   ]
  },
  {
   "cell_type": "markdown",
   "id": "7597b4d3",
   "metadata": {},
   "source": [
    "## Exploración de datos\n",
    "\n",
    "Ahora haremos una exploración de los datos. Iniciaremos por las columnas:"
   ]
  },
  {
   "cell_type": "code",
   "execution_count": 51,
   "id": "c60ad238",
   "metadata": {},
   "outputs": [
    {
     "data": {
      "text/plain": [
       "Index(['Country', 'CountryCode', 'Province', 'City', 'CityCode', 'Lat', 'Lon',\n",
       "       'Cases', 'Status', 'Date'],\n",
       "      dtype='object')"
      ]
     },
     "execution_count": 51,
     "metadata": {},
     "output_type": "execute_result"
    }
   ],
   "source": [
    "df_ecu.columns"
   ]
  },
  {
   "cell_type": "markdown",
   "id": "c4806bca",
   "metadata": {},
   "source": [
    "Para explorar los datos de la cabecera habrá que digitar:"
   ]
  },
  {
   "cell_type": "code",
   "execution_count": 54,
   "id": "002bb1d0",
   "metadata": {},
   "outputs": [
    {
     "data": {
      "text/plain": [
       "<bound method NDFrame.head of       Country CountryCode Province City CityCode   Lat    Lon    Cases  \\\n",
       "0     Ecuador          EC                        -1.83 -78.18        0   \n",
       "1     Ecuador          EC                        -1.83 -78.18        0   \n",
       "2     Ecuador          EC                        -1.83 -78.18        0   \n",
       "3     Ecuador          EC                        -1.83 -78.18        0   \n",
       "4     Ecuador          EC                        -1.83 -78.18        0   \n",
       "...       ...         ...      ...  ...      ...   ...    ...      ...   \n",
       "1042  Ecuador          EC                        -1.83 -78.18  1011132   \n",
       "1043  Ecuador          EC                        -1.83 -78.18  1011132   \n",
       "1044  Ecuador          EC                        -1.83 -78.18  1011132   \n",
       "1045  Ecuador          EC                        -1.83 -78.18  1011132   \n",
       "1046  Ecuador          EC                        -1.83 -78.18  1011132   \n",
       "\n",
       "         Status                      Date  \n",
       "0     confirmed 2020-01-22 00:00:00+00:00  \n",
       "1     confirmed 2020-01-23 00:00:00+00:00  \n",
       "2     confirmed 2020-01-24 00:00:00+00:00  \n",
       "3     confirmed 2020-01-25 00:00:00+00:00  \n",
       "4     confirmed 2020-01-26 00:00:00+00:00  \n",
       "...         ...                       ...  \n",
       "1042  confirmed 2022-11-29 00:00:00+00:00  \n",
       "1043  confirmed 2022-11-30 00:00:00+00:00  \n",
       "1044  confirmed 2022-12-01 00:00:00+00:00  \n",
       "1045  confirmed 2022-12-02 00:00:00+00:00  \n",
       "1046  confirmed 2022-12-03 00:00:00+00:00  \n",
       "\n",
       "[1047 rows x 10 columns]>"
      ]
     },
     "execution_count": 54,
     "metadata": {},
     "output_type": "execute_result"
    }
   ],
   "source": [
    "df_ecu.head"
   ]
  },
  {
   "cell_type": "markdown",
   "id": "1ede1533",
   "metadata": {},
   "source": [
    "Mientras que para visualizar los datos de la cola, habrá que poner:"
   ]
  },
  {
   "cell_type": "code",
   "execution_count": 55,
   "id": "c62bf8c0",
   "metadata": {},
   "outputs": [
    {
     "data": {
      "text/plain": [
       "<bound method NDFrame.tail of       Country CountryCode Province City CityCode   Lat    Lon    Cases  \\\n",
       "0     Ecuador          EC                        -1.83 -78.18        0   \n",
       "1     Ecuador          EC                        -1.83 -78.18        0   \n",
       "2     Ecuador          EC                        -1.83 -78.18        0   \n",
       "3     Ecuador          EC                        -1.83 -78.18        0   \n",
       "4     Ecuador          EC                        -1.83 -78.18        0   \n",
       "...       ...         ...      ...  ...      ...   ...    ...      ...   \n",
       "1042  Ecuador          EC                        -1.83 -78.18  1011132   \n",
       "1043  Ecuador          EC                        -1.83 -78.18  1011132   \n",
       "1044  Ecuador          EC                        -1.83 -78.18  1011132   \n",
       "1045  Ecuador          EC                        -1.83 -78.18  1011132   \n",
       "1046  Ecuador          EC                        -1.83 -78.18  1011132   \n",
       "\n",
       "         Status                      Date  \n",
       "0     confirmed 2020-01-22 00:00:00+00:00  \n",
       "1     confirmed 2020-01-23 00:00:00+00:00  \n",
       "2     confirmed 2020-01-24 00:00:00+00:00  \n",
       "3     confirmed 2020-01-25 00:00:00+00:00  \n",
       "4     confirmed 2020-01-26 00:00:00+00:00  \n",
       "...         ...                       ...  \n",
       "1042  confirmed 2022-11-29 00:00:00+00:00  \n",
       "1043  confirmed 2022-11-30 00:00:00+00:00  \n",
       "1044  confirmed 2022-12-01 00:00:00+00:00  \n",
       "1045  confirmed 2022-12-02 00:00:00+00:00  \n",
       "1046  confirmed 2022-12-03 00:00:00+00:00  \n",
       "\n",
       "[1047 rows x 10 columns]>"
      ]
     },
     "execution_count": 55,
     "metadata": {},
     "output_type": "execute_result"
    }
   ],
   "source": [
    "df_ecu.tail"
   ]
  },
  {
   "cell_type": "markdown",
   "id": "210d6d22",
   "metadata": {},
   "source": [
    "Para obtener información sobre las variables, tendremos que poner:"
   ]
  },
  {
   "cell_type": "code",
   "execution_count": 57,
   "id": "9d9e43e0",
   "metadata": {},
   "outputs": [
    {
     "data": {
      "text/plain": [
       "<bound method DataFrame.info of       Country CountryCode Province City CityCode   Lat    Lon    Cases  \\\n",
       "0     Ecuador          EC                        -1.83 -78.18        0   \n",
       "1     Ecuador          EC                        -1.83 -78.18        0   \n",
       "2     Ecuador          EC                        -1.83 -78.18        0   \n",
       "3     Ecuador          EC                        -1.83 -78.18        0   \n",
       "4     Ecuador          EC                        -1.83 -78.18        0   \n",
       "...       ...         ...      ...  ...      ...   ...    ...      ...   \n",
       "1042  Ecuador          EC                        -1.83 -78.18  1011132   \n",
       "1043  Ecuador          EC                        -1.83 -78.18  1011132   \n",
       "1044  Ecuador          EC                        -1.83 -78.18  1011132   \n",
       "1045  Ecuador          EC                        -1.83 -78.18  1011132   \n",
       "1046  Ecuador          EC                        -1.83 -78.18  1011132   \n",
       "\n",
       "         Status                      Date  \n",
       "0     confirmed 2020-01-22 00:00:00+00:00  \n",
       "1     confirmed 2020-01-23 00:00:00+00:00  \n",
       "2     confirmed 2020-01-24 00:00:00+00:00  \n",
       "3     confirmed 2020-01-25 00:00:00+00:00  \n",
       "4     confirmed 2020-01-26 00:00:00+00:00  \n",
       "...         ...                       ...  \n",
       "1042  confirmed 2022-11-29 00:00:00+00:00  \n",
       "1043  confirmed 2022-11-30 00:00:00+00:00  \n",
       "1044  confirmed 2022-12-01 00:00:00+00:00  \n",
       "1045  confirmed 2022-12-02 00:00:00+00:00  \n",
       "1046  confirmed 2022-12-03 00:00:00+00:00  \n",
       "\n",
       "[1047 rows x 10 columns]>"
      ]
     },
     "execution_count": 57,
     "metadata": {},
     "output_type": "execute_result"
    }
   ],
   "source": [
    "df_ecu.info"
   ]
  },
  {
   "cell_type": "markdown",
   "id": "bdb7bf16",
   "metadata": {},
   "source": [
    "Mientras que si deseamos tener una descripción estadística del dataframe habrá que digitar:"
   ]
  },
  {
   "cell_type": "code",
   "execution_count": 58,
   "id": "14622995",
   "metadata": {},
   "outputs": [
    {
     "data": {
      "text/plain": [
       "<bound method NDFrame.describe of       Country CountryCode Province City CityCode   Lat    Lon    Cases  \\\n",
       "0     Ecuador          EC                        -1.83 -78.18        0   \n",
       "1     Ecuador          EC                        -1.83 -78.18        0   \n",
       "2     Ecuador          EC                        -1.83 -78.18        0   \n",
       "3     Ecuador          EC                        -1.83 -78.18        0   \n",
       "4     Ecuador          EC                        -1.83 -78.18        0   \n",
       "...       ...         ...      ...  ...      ...   ...    ...      ...   \n",
       "1042  Ecuador          EC                        -1.83 -78.18  1011132   \n",
       "1043  Ecuador          EC                        -1.83 -78.18  1011132   \n",
       "1044  Ecuador          EC                        -1.83 -78.18  1011132   \n",
       "1045  Ecuador          EC                        -1.83 -78.18  1011132   \n",
       "1046  Ecuador          EC                        -1.83 -78.18  1011132   \n",
       "\n",
       "         Status                      Date  \n",
       "0     confirmed 2020-01-22 00:00:00+00:00  \n",
       "1     confirmed 2020-01-23 00:00:00+00:00  \n",
       "2     confirmed 2020-01-24 00:00:00+00:00  \n",
       "3     confirmed 2020-01-25 00:00:00+00:00  \n",
       "4     confirmed 2020-01-26 00:00:00+00:00  \n",
       "...         ...                       ...  \n",
       "1042  confirmed 2022-11-29 00:00:00+00:00  \n",
       "1043  confirmed 2022-11-30 00:00:00+00:00  \n",
       "1044  confirmed 2022-12-01 00:00:00+00:00  \n",
       "1045  confirmed 2022-12-02 00:00:00+00:00  \n",
       "1046  confirmed 2022-12-03 00:00:00+00:00  \n",
       "\n",
       "[1047 rows x 10 columns]>"
      ]
     },
     "execution_count": 58,
     "metadata": {},
     "output_type": "execute_result"
    }
   ],
   "source": [
    "df_ecu.describe"
   ]
  },
  {
   "cell_type": "markdown",
   "id": "cbdba0c4",
   "metadata": {},
   "source": [
    "## Elaboración de nuestro gráfico para los datos de Ecuador"
   ]
  },
  {
   "cell_type": "markdown",
   "id": "ff89b349",
   "metadata": {},
   "source": [
    "A continuación, haremos nuestro gráfico. En esta ocasión queremos que en el eje X esté la fecha y en el eje Y los datos confirmados. Para conseguirlo pondremos la fecha como índice de la función. Esto hace que nuestras entradas se identifiquen por la fecha y no por el índice que le había dado Pandas en un inicio."
   ]
  },
  {
   "cell_type": "code",
   "execution_count": 60,
   "id": "6e10e768",
   "metadata": {},
   "outputs": [
    {
     "data": {
      "text/html": [
       "<div>\n",
       "<style scoped>\n",
       "    .dataframe tbody tr th:only-of-type {\n",
       "        vertical-align: middle;\n",
       "    }\n",
       "\n",
       "    .dataframe tbody tr th {\n",
       "        vertical-align: top;\n",
       "    }\n",
       "\n",
       "    .dataframe thead th {\n",
       "        text-align: right;\n",
       "    }\n",
       "</style>\n",
       "<table border=\"1\" class=\"dataframe\">\n",
       "  <thead>\n",
       "    <tr style=\"text-align: right;\">\n",
       "      <th></th>\n",
       "      <th>Country</th>\n",
       "      <th>CountryCode</th>\n",
       "      <th>Province</th>\n",
       "      <th>City</th>\n",
       "      <th>CityCode</th>\n",
       "      <th>Lat</th>\n",
       "      <th>Lon</th>\n",
       "      <th>Cases</th>\n",
       "      <th>Status</th>\n",
       "    </tr>\n",
       "    <tr>\n",
       "      <th>Date</th>\n",
       "      <th></th>\n",
       "      <th></th>\n",
       "      <th></th>\n",
       "      <th></th>\n",
       "      <th></th>\n",
       "      <th></th>\n",
       "      <th></th>\n",
       "      <th></th>\n",
       "      <th></th>\n",
       "    </tr>\n",
       "  </thead>\n",
       "  <tbody>\n",
       "    <tr>\n",
       "      <th>2020-01-22 00:00:00+00:00</th>\n",
       "      <td>Ecuador</td>\n",
       "      <td>EC</td>\n",
       "      <td></td>\n",
       "      <td></td>\n",
       "      <td></td>\n",
       "      <td>-1.83</td>\n",
       "      <td>-78.18</td>\n",
       "      <td>0</td>\n",
       "      <td>confirmed</td>\n",
       "    </tr>\n",
       "    <tr>\n",
       "      <th>2020-01-23 00:00:00+00:00</th>\n",
       "      <td>Ecuador</td>\n",
       "      <td>EC</td>\n",
       "      <td></td>\n",
       "      <td></td>\n",
       "      <td></td>\n",
       "      <td>-1.83</td>\n",
       "      <td>-78.18</td>\n",
       "      <td>0</td>\n",
       "      <td>confirmed</td>\n",
       "    </tr>\n",
       "    <tr>\n",
       "      <th>2020-01-24 00:00:00+00:00</th>\n",
       "      <td>Ecuador</td>\n",
       "      <td>EC</td>\n",
       "      <td></td>\n",
       "      <td></td>\n",
       "      <td></td>\n",
       "      <td>-1.83</td>\n",
       "      <td>-78.18</td>\n",
       "      <td>0</td>\n",
       "      <td>confirmed</td>\n",
       "    </tr>\n",
       "    <tr>\n",
       "      <th>2020-01-25 00:00:00+00:00</th>\n",
       "      <td>Ecuador</td>\n",
       "      <td>EC</td>\n",
       "      <td></td>\n",
       "      <td></td>\n",
       "      <td></td>\n",
       "      <td>-1.83</td>\n",
       "      <td>-78.18</td>\n",
       "      <td>0</td>\n",
       "      <td>confirmed</td>\n",
       "    </tr>\n",
       "    <tr>\n",
       "      <th>2020-01-26 00:00:00+00:00</th>\n",
       "      <td>Ecuador</td>\n",
       "      <td>EC</td>\n",
       "      <td></td>\n",
       "      <td></td>\n",
       "      <td></td>\n",
       "      <td>-1.83</td>\n",
       "      <td>-78.18</td>\n",
       "      <td>0</td>\n",
       "      <td>confirmed</td>\n",
       "    </tr>\n",
       "    <tr>\n",
       "      <th>...</th>\n",
       "      <td>...</td>\n",
       "      <td>...</td>\n",
       "      <td>...</td>\n",
       "      <td>...</td>\n",
       "      <td>...</td>\n",
       "      <td>...</td>\n",
       "      <td>...</td>\n",
       "      <td>...</td>\n",
       "      <td>...</td>\n",
       "    </tr>\n",
       "    <tr>\n",
       "      <th>2022-11-29 00:00:00+00:00</th>\n",
       "      <td>Ecuador</td>\n",
       "      <td>EC</td>\n",
       "      <td></td>\n",
       "      <td></td>\n",
       "      <td></td>\n",
       "      <td>-1.83</td>\n",
       "      <td>-78.18</td>\n",
       "      <td>1011132</td>\n",
       "      <td>confirmed</td>\n",
       "    </tr>\n",
       "    <tr>\n",
       "      <th>2022-11-30 00:00:00+00:00</th>\n",
       "      <td>Ecuador</td>\n",
       "      <td>EC</td>\n",
       "      <td></td>\n",
       "      <td></td>\n",
       "      <td></td>\n",
       "      <td>-1.83</td>\n",
       "      <td>-78.18</td>\n",
       "      <td>1011132</td>\n",
       "      <td>confirmed</td>\n",
       "    </tr>\n",
       "    <tr>\n",
       "      <th>2022-12-01 00:00:00+00:00</th>\n",
       "      <td>Ecuador</td>\n",
       "      <td>EC</td>\n",
       "      <td></td>\n",
       "      <td></td>\n",
       "      <td></td>\n",
       "      <td>-1.83</td>\n",
       "      <td>-78.18</td>\n",
       "      <td>1011132</td>\n",
       "      <td>confirmed</td>\n",
       "    </tr>\n",
       "    <tr>\n",
       "      <th>2022-12-02 00:00:00+00:00</th>\n",
       "      <td>Ecuador</td>\n",
       "      <td>EC</td>\n",
       "      <td></td>\n",
       "      <td></td>\n",
       "      <td></td>\n",
       "      <td>-1.83</td>\n",
       "      <td>-78.18</td>\n",
       "      <td>1011132</td>\n",
       "      <td>confirmed</td>\n",
       "    </tr>\n",
       "    <tr>\n",
       "      <th>2022-12-03 00:00:00+00:00</th>\n",
       "      <td>Ecuador</td>\n",
       "      <td>EC</td>\n",
       "      <td></td>\n",
       "      <td></td>\n",
       "      <td></td>\n",
       "      <td>-1.83</td>\n",
       "      <td>-78.18</td>\n",
       "      <td>1011132</td>\n",
       "      <td>confirmed</td>\n",
       "    </tr>\n",
       "  </tbody>\n",
       "</table>\n",
       "<p>1047 rows × 9 columns</p>\n",
       "</div>"
      ],
      "text/plain": [
       "                           Country CountryCode Province City CityCode   Lat  \\\n",
       "Date                                                                          \n",
       "2020-01-22 00:00:00+00:00  Ecuador          EC                        -1.83   \n",
       "2020-01-23 00:00:00+00:00  Ecuador          EC                        -1.83   \n",
       "2020-01-24 00:00:00+00:00  Ecuador          EC                        -1.83   \n",
       "2020-01-25 00:00:00+00:00  Ecuador          EC                        -1.83   \n",
       "2020-01-26 00:00:00+00:00  Ecuador          EC                        -1.83   \n",
       "...                            ...         ...      ...  ...      ...   ...   \n",
       "2022-11-29 00:00:00+00:00  Ecuador          EC                        -1.83   \n",
       "2022-11-30 00:00:00+00:00  Ecuador          EC                        -1.83   \n",
       "2022-12-01 00:00:00+00:00  Ecuador          EC                        -1.83   \n",
       "2022-12-02 00:00:00+00:00  Ecuador          EC                        -1.83   \n",
       "2022-12-03 00:00:00+00:00  Ecuador          EC                        -1.83   \n",
       "\n",
       "                             Lon    Cases     Status  \n",
       "Date                                                  \n",
       "2020-01-22 00:00:00+00:00 -78.18        0  confirmed  \n",
       "2020-01-23 00:00:00+00:00 -78.18        0  confirmed  \n",
       "2020-01-24 00:00:00+00:00 -78.18        0  confirmed  \n",
       "2020-01-25 00:00:00+00:00 -78.18        0  confirmed  \n",
       "2020-01-26 00:00:00+00:00 -78.18        0  confirmed  \n",
       "...                          ...      ...        ...  \n",
       "2022-11-29 00:00:00+00:00 -78.18  1011132  confirmed  \n",
       "2022-11-30 00:00:00+00:00 -78.18  1011132  confirmed  \n",
       "2022-12-01 00:00:00+00:00 -78.18  1011132  confirmed  \n",
       "2022-12-02 00:00:00+00:00 -78.18  1011132  confirmed  \n",
       "2022-12-03 00:00:00+00:00 -78.18  1011132  confirmed  \n",
       "\n",
       "[1047 rows x 9 columns]"
      ]
     },
     "execution_count": 60,
     "metadata": {},
     "output_type": "execute_result"
    }
   ],
   "source": [
    "df_ecu.set_index('Date')"
   ]
  },
  {
   "cell_type": "markdown",
   "id": "75d27517",
   "metadata": {},
   "source": [
    "Si quisiéramos ver los casos confirmados en una tabla tendríamos que crear una vista en la que se pueda ver el número de casos confirmados por fecha. Así:"
   ]
  },
  {
   "cell_type": "code",
   "execution_count": 61,
   "id": "1bfac358",
   "metadata": {},
   "outputs": [
    {
     "data": {
      "text/plain": [
       "Date\n",
       "2020-01-22 00:00:00+00:00          0\n",
       "2020-01-23 00:00:00+00:00          0\n",
       "2020-01-24 00:00:00+00:00          0\n",
       "2020-01-25 00:00:00+00:00          0\n",
       "2020-01-26 00:00:00+00:00          0\n",
       "                              ...   \n",
       "2022-11-29 00:00:00+00:00    1011132\n",
       "2022-11-30 00:00:00+00:00    1011132\n",
       "2022-12-01 00:00:00+00:00    1011132\n",
       "2022-12-02 00:00:00+00:00    1011132\n",
       "2022-12-03 00:00:00+00:00    1011132\n",
       "Name: Cases, Length: 1047, dtype: int64"
      ]
     },
     "execution_count": 61,
     "metadata": {},
     "output_type": "execute_result"
    }
   ],
   "source": [
    "df_ecu.set_index('Date')['Cases']"
   ]
  },
  {
   "cell_type": "markdown",
   "id": "498170dd",
   "metadata": {},
   "source": [
    "Para crear nuestro gráfico tendremos que utilizar la función \"plot\"."
   ]
  },
  {
   "cell_type": "code",
   "execution_count": 62,
   "id": "81fa8688",
   "metadata": {},
   "outputs": [
    {
     "data": {
      "text/plain": [
       "<AxesSubplot:xlabel='Date'>"
      ]
     },
     "execution_count": 62,
     "metadata": {},
     "output_type": "execute_result"
    },
    {
     "data": {
      "image/png": "[encoded data removed]",
      "text/plain": [
       "<Figure size 640x480 with 1 Axes>"
      ]
     },
     "metadata": {},
     "output_type": "display_data"
    }
   ],
   "source": [
    "df_ecu.set_index('Date')['Cases'].plot()"
   ]
  },
  {
   "cell_type": "markdown",
   "id": "a47766bb",
   "metadata": {},
   "source": [
    "Podremos también nombrar nuestro gráfico como queramos, siempre y cuando utilizemos la función title:"
   ]
  },
  {
   "cell_type": "code",
   "execution_count": 63,
   "id": "bfef3656",
   "metadata": {},
   "outputs": [
    {
     "data": {
      "text/plain": [
       "<AxesSubplot:title={'center':'Casos de Covid19 en Ecuador'}, xlabel='Date'>"
      ]
     },
     "execution_count": 63,
     "metadata": {},
     "output_type": "execute_result"
    },
    {
     "data": {
      "image/png": "[encoded data removed]",
      "text/plain": [
       "<Figure size 640x480 with 1 Axes>"
      ]
     },
     "metadata": {},
     "output_type": "display_data"
    }
   ],
   "source": [
    "df_ecu.set_index('Date')['Cases'].plot(title = \"Casos de Covid19 en Ecuador\")"
   ]
  },
  {
   "cell_type": "markdown",
   "id": "852b5eeb",
   "metadata": {},
   "source": [
    "# Haremos el mismo ejercicio con República Dominicana\n",
    "\n",
    "Para trabajar con República Dominicana, utilizaremos la siguiente URL: https://api.covid19api.com/country/dominican-republic/status/confirmed/live\n",
    "\n",
    "Esta vez, para poder identificar el país utilizaremos “df_rep” (esta será la abreviatura de República Dominicana. "
   ]
  },
  {
   "cell_type": "code",
   "execution_count": 69,
   "id": "ba7c54ae",
   "metadata": {},
   "outputs": [
    {
     "data": {
      "text/html": [
       "<div>\n",
       "<style scoped>\n",
       "    .dataframe tbody tr th:only-of-type {\n",
       "        vertical-align: middle;\n",
       "    }\n",
       "\n",
       "    .dataframe tbody tr th {\n",
       "        vertical-align: top;\n",
       "    }\n",
       "\n",
       "    .dataframe thead th {\n",
       "        text-align: right;\n",
       "    }\n",
       "</style>\n",
       "<table border=\"1\" class=\"dataframe\">\n",
       "  <thead>\n",
       "    <tr style=\"text-align: right;\">\n",
       "      <th></th>\n",
       "      <th>Country</th>\n",
       "      <th>CountryCode</th>\n",
       "      <th>Province</th>\n",
       "      <th>City</th>\n",
       "      <th>CityCode</th>\n",
       "      <th>Lat</th>\n",
       "      <th>Lon</th>\n",
       "      <th>Cases</th>\n",
       "      <th>Status</th>\n",
       "      <th>Date</th>\n",
       "    </tr>\n",
       "  </thead>\n",
       "  <tbody>\n",
       "    <tr>\n",
       "      <th>0</th>\n",
       "      <td>Dominican Republic</td>\n",
       "      <td>DO</td>\n",
       "      <td></td>\n",
       "      <td></td>\n",
       "      <td></td>\n",
       "      <td>18.74</td>\n",
       "      <td>-70.16</td>\n",
       "      <td>0</td>\n",
       "      <td>confirmed</td>\n",
       "      <td>2020-01-22 00:00:00+00:00</td>\n",
       "    </tr>\n",
       "    <tr>\n",
       "      <th>1</th>\n",
       "      <td>Dominican Republic</td>\n",
       "      <td>DO</td>\n",
       "      <td></td>\n",
       "      <td></td>\n",
       "      <td></td>\n",
       "      <td>18.74</td>\n",
       "      <td>-70.16</td>\n",
       "      <td>0</td>\n",
       "      <td>confirmed</td>\n",
       "      <td>2020-01-23 00:00:00+00:00</td>\n",
       "    </tr>\n",
       "    <tr>\n",
       "      <th>2</th>\n",
       "      <td>Dominican Republic</td>\n",
       "      <td>DO</td>\n",
       "      <td></td>\n",
       "      <td></td>\n",
       "      <td></td>\n",
       "      <td>18.74</td>\n",
       "      <td>-70.16</td>\n",
       "      <td>0</td>\n",
       "      <td>confirmed</td>\n",
       "      <td>2020-01-24 00:00:00+00:00</td>\n",
       "    </tr>\n",
       "    <tr>\n",
       "      <th>3</th>\n",
       "      <td>Dominican Republic</td>\n",
       "      <td>DO</td>\n",
       "      <td></td>\n",
       "      <td></td>\n",
       "      <td></td>\n",
       "      <td>18.74</td>\n",
       "      <td>-70.16</td>\n",
       "      <td>0</td>\n",
       "      <td>confirmed</td>\n",
       "      <td>2020-01-25 00:00:00+00:00</td>\n",
       "    </tr>\n",
       "    <tr>\n",
       "      <th>4</th>\n",
       "      <td>Dominican Republic</td>\n",
       "      <td>DO</td>\n",
       "      <td></td>\n",
       "      <td></td>\n",
       "      <td></td>\n",
       "      <td>18.74</td>\n",
       "      <td>-70.16</td>\n",
       "      <td>0</td>\n",
       "      <td>confirmed</td>\n",
       "      <td>2020-01-26 00:00:00+00:00</td>\n",
       "    </tr>\n",
       "    <tr>\n",
       "      <th>...</th>\n",
       "      <td>...</td>\n",
       "      <td>...</td>\n",
       "      <td>...</td>\n",
       "      <td>...</td>\n",
       "      <td>...</td>\n",
       "      <td>...</td>\n",
       "      <td>...</td>\n",
       "      <td>...</td>\n",
       "      <td>...</td>\n",
       "      <td>...</td>\n",
       "    </tr>\n",
       "    <tr>\n",
       "      <th>1042</th>\n",
       "      <td>Dominican Republic</td>\n",
       "      <td>DO</td>\n",
       "      <td></td>\n",
       "      <td></td>\n",
       "      <td></td>\n",
       "      <td>18.74</td>\n",
       "      <td>-70.16</td>\n",
       "      <td>650381</td>\n",
       "      <td>confirmed</td>\n",
       "      <td>2022-11-29 00:00:00+00:00</td>\n",
       "    </tr>\n",
       "    <tr>\n",
       "      <th>1043</th>\n",
       "      <td>Dominican Republic</td>\n",
       "      <td>DO</td>\n",
       "      <td></td>\n",
       "      <td></td>\n",
       "      <td></td>\n",
       "      <td>18.74</td>\n",
       "      <td>-70.16</td>\n",
       "      <td>650381</td>\n",
       "      <td>confirmed</td>\n",
       "      <td>2022-11-30 00:00:00+00:00</td>\n",
       "    </tr>\n",
       "    <tr>\n",
       "      <th>1044</th>\n",
       "      <td>Dominican Republic</td>\n",
       "      <td>DO</td>\n",
       "      <td></td>\n",
       "      <td></td>\n",
       "      <td></td>\n",
       "      <td>18.74</td>\n",
       "      <td>-70.16</td>\n",
       "      <td>650381</td>\n",
       "      <td>confirmed</td>\n",
       "      <td>2022-12-01 00:00:00+00:00</td>\n",
       "    </tr>\n",
       "    <tr>\n",
       "      <th>1045</th>\n",
       "      <td>Dominican Republic</td>\n",
       "      <td>DO</td>\n",
       "      <td></td>\n",
       "      <td></td>\n",
       "      <td></td>\n",
       "      <td>18.74</td>\n",
       "      <td>-70.16</td>\n",
       "      <td>650381</td>\n",
       "      <td>confirmed</td>\n",
       "      <td>2022-12-02 00:00:00+00:00</td>\n",
       "    </tr>\n",
       "    <tr>\n",
       "      <th>1046</th>\n",
       "      <td>Dominican Republic</td>\n",
       "      <td>DO</td>\n",
       "      <td></td>\n",
       "      <td></td>\n",
       "      <td></td>\n",
       "      <td>18.74</td>\n",
       "      <td>-70.16</td>\n",
       "      <td>650990</td>\n",
       "      <td>confirmed</td>\n",
       "      <td>2022-12-03 00:00:00+00:00</td>\n",
       "    </tr>\n",
       "  </tbody>\n",
       "</table>\n",
       "<p>1047 rows × 10 columns</p>\n",
       "</div>"
      ],
      "text/plain": [
       "                 Country CountryCode Province City CityCode    Lat    Lon  \\\n",
       "0     Dominican Republic          DO                         18.74 -70.16   \n",
       "1     Dominican Republic          DO                         18.74 -70.16   \n",
       "2     Dominican Republic          DO                         18.74 -70.16   \n",
       "3     Dominican Republic          DO                         18.74 -70.16   \n",
       "4     Dominican Republic          DO                         18.74 -70.16   \n",
       "...                  ...         ...      ...  ...      ...    ...    ...   \n",
       "1042  Dominican Republic          DO                         18.74 -70.16   \n",
       "1043  Dominican Republic          DO                         18.74 -70.16   \n",
       "1044  Dominican Republic          DO                         18.74 -70.16   \n",
       "1045  Dominican Republic          DO                         18.74 -70.16   \n",
       "1046  Dominican Republic          DO                         18.74 -70.16   \n",
       "\n",
       "       Cases     Status                      Date  \n",
       "0          0  confirmed 2020-01-22 00:00:00+00:00  \n",
       "1          0  confirmed 2020-01-23 00:00:00+00:00  \n",
       "2          0  confirmed 2020-01-24 00:00:00+00:00  \n",
       "3          0  confirmed 2020-01-25 00:00:00+00:00  \n",
       "4          0  confirmed 2020-01-26 00:00:00+00:00  \n",
       "...      ...        ...                       ...  \n",
       "1042  650381  confirmed 2022-11-29 00:00:00+00:00  \n",
       "1043  650381  confirmed 2022-11-30 00:00:00+00:00  \n",
       "1044  650381  confirmed 2022-12-01 00:00:00+00:00  \n",
       "1045  650381  confirmed 2022-12-02 00:00:00+00:00  \n",
       "1046  650990  confirmed 2022-12-03 00:00:00+00:00  \n",
       "\n",
       "[1047 rows x 10 columns]"
      ]
     },
     "execution_count": 69,
     "metadata": {},
     "output_type": "execute_result"
    }
   ],
   "source": [
    "url_rep = 'https://api.covid19api.com/country/dominican-republic/status/confirmed/live'\n",
    "df_rep = pd.read_json(url_rep)\n",
    "df_rep"
   ]
  },
  {
   "cell_type": "markdown",
   "id": "0500c13c",
   "metadata": {},
   "source": [
    "## Exploración de datos"
   ]
  },
  {
   "cell_type": "markdown",
   "id": "e58f4739",
   "metadata": {},
   "source": [
    "Nuevamente haremos una exploración de los datos. Iniciaremos por las columnas:"
   ]
  },
  {
   "cell_type": "code",
   "execution_count": 71,
   "id": "97759665",
   "metadata": {},
   "outputs": [
    {
     "data": {
      "text/plain": [
       "Index(['Country', 'CountryCode', 'Province', 'City', 'CityCode', 'Lat', 'Lon',\n",
       "       'Cases', 'Status', 'Date'],\n",
       "      dtype='object')"
      ]
     },
     "execution_count": 71,
     "metadata": {},
     "output_type": "execute_result"
    }
   ],
   "source": [
    "df_rep.columns"
   ]
  },
  {
   "cell_type": "markdown",
   "id": "87aeb820",
   "metadata": {},
   "source": [
    "Para mirar la cabecera pondremos:"
   ]
  },
  {
   "cell_type": "code",
   "execution_count": 73,
   "id": "03954713",
   "metadata": {},
   "outputs": [
    {
     "data": {
      "text/plain": [
       "<bound method NDFrame.head of                  Country CountryCode Province City CityCode    Lat    Lon  \\\n",
       "0     Dominican Republic          DO                         18.74 -70.16   \n",
       "1     Dominican Republic          DO                         18.74 -70.16   \n",
       "2     Dominican Republic          DO                         18.74 -70.16   \n",
       "3     Dominican Republic          DO                         18.74 -70.16   \n",
       "4     Dominican Republic          DO                         18.74 -70.16   \n",
       "...                  ...         ...      ...  ...      ...    ...    ...   \n",
       "1042  Dominican Republic          DO                         18.74 -70.16   \n",
       "1043  Dominican Republic          DO                         18.74 -70.16   \n",
       "1044  Dominican Republic          DO                         18.74 -70.16   \n",
       "1045  Dominican Republic          DO                         18.74 -70.16   \n",
       "1046  Dominican Republic          DO                         18.74 -70.16   \n",
       "\n",
       "       Cases     Status                      Date  \n",
       "0          0  confirmed 2020-01-22 00:00:00+00:00  \n",
       "1          0  confirmed 2020-01-23 00:00:00+00:00  \n",
       "2          0  confirmed 2020-01-24 00:00:00+00:00  \n",
       "3          0  confirmed 2020-01-25 00:00:00+00:00  \n",
       "4          0  confirmed 2020-01-26 00:00:00+00:00  \n",
       "...      ...        ...                       ...  \n",
       "1042  650381  confirmed 2022-11-29 00:00:00+00:00  \n",
       "1043  650381  confirmed 2022-11-30 00:00:00+00:00  \n",
       "1044  650381  confirmed 2022-12-01 00:00:00+00:00  \n",
       "1045  650381  confirmed 2022-12-02 00:00:00+00:00  \n",
       "1046  650990  confirmed 2022-12-03 00:00:00+00:00  \n",
       "\n",
       "[1047 rows x 10 columns]>"
      ]
     },
     "execution_count": 73,
     "metadata": {},
     "output_type": "execute_result"
    }
   ],
   "source": [
    "df_rep.head"
   ]
  },
  {
   "cell_type": "markdown",
   "id": "35588641",
   "metadata": {},
   "source": [
    "Si queremos mirar el final tendremos que digitar:"
   ]
  },
  {
   "cell_type": "code",
   "execution_count": 75,
   "id": "865d26f5",
   "metadata": {},
   "outputs": [
    {
     "data": {
      "text/plain": [
       "<bound method NDFrame.tail of                  Country CountryCode Province City CityCode    Lat    Lon  \\\n",
       "0     Dominican Republic          DO                         18.74 -70.16   \n",
       "1     Dominican Republic          DO                         18.74 -70.16   \n",
       "2     Dominican Republic          DO                         18.74 -70.16   \n",
       "3     Dominican Republic          DO                         18.74 -70.16   \n",
       "4     Dominican Republic          DO                         18.74 -70.16   \n",
       "...                  ...         ...      ...  ...      ...    ...    ...   \n",
       "1042  Dominican Republic          DO                         18.74 -70.16   \n",
       "1043  Dominican Republic          DO                         18.74 -70.16   \n",
       "1044  Dominican Republic          DO                         18.74 -70.16   \n",
       "1045  Dominican Republic          DO                         18.74 -70.16   \n",
       "1046  Dominican Republic          DO                         18.74 -70.16   \n",
       "\n",
       "       Cases     Status                      Date  \n",
       "0          0  confirmed 2020-01-22 00:00:00+00:00  \n",
       "1          0  confirmed 2020-01-23 00:00:00+00:00  \n",
       "2          0  confirmed 2020-01-24 00:00:00+00:00  \n",
       "3          0  confirmed 2020-01-25 00:00:00+00:00  \n",
       "4          0  confirmed 2020-01-26 00:00:00+00:00  \n",
       "...      ...        ...                       ...  \n",
       "1042  650381  confirmed 2022-11-29 00:00:00+00:00  \n",
       "1043  650381  confirmed 2022-11-30 00:00:00+00:00  \n",
       "1044  650381  confirmed 2022-12-01 00:00:00+00:00  \n",
       "1045  650381  confirmed 2022-12-02 00:00:00+00:00  \n",
       "1046  650990  confirmed 2022-12-03 00:00:00+00:00  \n",
       "\n",
       "[1047 rows x 10 columns]>"
      ]
     },
     "execution_count": 75,
     "metadata": {},
     "output_type": "execute_result"
    }
   ],
   "source": [
    "df_rep.tail"
   ]
  },
  {
   "cell_type": "markdown",
   "id": "360b974f",
   "metadata": {},
   "source": [
    "Recordemos que, al igual que en los ejercicios pasados, acá también podemos mirar información sobre variables. Así que podremos:"
   ]
  },
  {
   "cell_type": "code",
   "execution_count": 76,
   "id": "2343181f",
   "metadata": {},
   "outputs": [
    {
     "data": {
      "text/plain": [
       "<bound method DataFrame.info of                  Country CountryCode Province City CityCode    Lat    Lon  \\\n",
       "0     Dominican Republic          DO                         18.74 -70.16   \n",
       "1     Dominican Republic          DO                         18.74 -70.16   \n",
       "2     Dominican Republic          DO                         18.74 -70.16   \n",
       "3     Dominican Republic          DO                         18.74 -70.16   \n",
       "4     Dominican Republic          DO                         18.74 -70.16   \n",
       "...                  ...         ...      ...  ...      ...    ...    ...   \n",
       "1042  Dominican Republic          DO                         18.74 -70.16   \n",
       "1043  Dominican Republic          DO                         18.74 -70.16   \n",
       "1044  Dominican Republic          DO                         18.74 -70.16   \n",
       "1045  Dominican Republic          DO                         18.74 -70.16   \n",
       "1046  Dominican Republic          DO                         18.74 -70.16   \n",
       "\n",
       "       Cases     Status                      Date  \n",
       "0          0  confirmed 2020-01-22 00:00:00+00:00  \n",
       "1          0  confirmed 2020-01-23 00:00:00+00:00  \n",
       "2          0  confirmed 2020-01-24 00:00:00+00:00  \n",
       "3          0  confirmed 2020-01-25 00:00:00+00:00  \n",
       "4          0  confirmed 2020-01-26 00:00:00+00:00  \n",
       "...      ...        ...                       ...  \n",
       "1042  650381  confirmed 2022-11-29 00:00:00+00:00  \n",
       "1043  650381  confirmed 2022-11-30 00:00:00+00:00  \n",
       "1044  650381  confirmed 2022-12-01 00:00:00+00:00  \n",
       "1045  650381  confirmed 2022-12-02 00:00:00+00:00  \n",
       "1046  650990  confirmed 2022-12-03 00:00:00+00:00  \n",
       "\n",
       "[1047 rows x 10 columns]>"
      ]
     },
     "execution_count": 76,
     "metadata": {},
     "output_type": "execute_result"
    }
   ],
   "source": [
    "df_rep.info"
   ]
  },
  {
   "cell_type": "markdown",
   "id": "6d1341ca",
   "metadata": {},
   "source": [
    "Para conseguir la descripción estadística de las variables numéricas del dataframe de República Dominicana, digitaremos:"
   ]
  },
  {
   "cell_type": "code",
   "execution_count": 77,
   "id": "a8cc5ce1",
   "metadata": {},
   "outputs": [
    {
     "data": {
      "text/plain": [
       "<bound method NDFrame.describe of                  Country CountryCode Province City CityCode    Lat    Lon  \\\n",
       "0     Dominican Republic          DO                         18.74 -70.16   \n",
       "1     Dominican Republic          DO                         18.74 -70.16   \n",
       "2     Dominican Republic          DO                         18.74 -70.16   \n",
       "3     Dominican Republic          DO                         18.74 -70.16   \n",
       "4     Dominican Republic          DO                         18.74 -70.16   \n",
       "...                  ...         ...      ...  ...      ...    ...    ...   \n",
       "1042  Dominican Republic          DO                         18.74 -70.16   \n",
       "1043  Dominican Republic          DO                         18.74 -70.16   \n",
       "1044  Dominican Republic          DO                         18.74 -70.16   \n",
       "1045  Dominican Republic          DO                         18.74 -70.16   \n",
       "1046  Dominican Republic          DO                         18.74 -70.16   \n",
       "\n",
       "       Cases     Status                      Date  \n",
       "0          0  confirmed 2020-01-22 00:00:00+00:00  \n",
       "1          0  confirmed 2020-01-23 00:00:00+00:00  \n",
       "2          0  confirmed 2020-01-24 00:00:00+00:00  \n",
       "3          0  confirmed 2020-01-25 00:00:00+00:00  \n",
       "4          0  confirmed 2020-01-26 00:00:00+00:00  \n",
       "...      ...        ...                       ...  \n",
       "1042  650381  confirmed 2022-11-29 00:00:00+00:00  \n",
       "1043  650381  confirmed 2022-11-30 00:00:00+00:00  \n",
       "1044  650381  confirmed 2022-12-01 00:00:00+00:00  \n",
       "1045  650381  confirmed 2022-12-02 00:00:00+00:00  \n",
       "1046  650990  confirmed 2022-12-03 00:00:00+00:00  \n",
       "\n",
       "[1047 rows x 10 columns]>"
      ]
     },
     "execution_count": 77,
     "metadata": {},
     "output_type": "execute_result"
    }
   ],
   "source": [
    "df_rep.describe"
   ]
  },
  {
   "cell_type": "markdown",
   "id": "5474cd29",
   "metadata": {},
   "source": [
    "## Elaboración del gráfico"
   ]
  },
  {
   "cell_type": "markdown",
   "id": "680d4aee",
   "metadata": {},
   "source": [
    "A continuación, haremos nuestro gráfico para República Dominicana. En esta ocasión queremos que en el eje X esté la fecha y en el eje Y los datos confirmados. Para conseguirlo pondremos la fecha como índice de la función. Esto hace que nuestras entradas se identifiquen por la fecha y no por el índice que le había dado Pandas en un inicio."
   ]
  },
  {
   "cell_type": "code",
   "execution_count": 78,
   "id": "f0b4cb8b",
   "metadata": {},
   "outputs": [
    {
     "data": {
      "text/html": [
       "<div>\n",
       "<style scoped>\n",
       "    .dataframe tbody tr th:only-of-type {\n",
       "        vertical-align: middle;\n",
       "    }\n",
       "\n",
       "    .dataframe tbody tr th {\n",
       "        vertical-align: top;\n",
       "    }\n",
       "\n",
       "    .dataframe thead th {\n",
       "        text-align: right;\n",
       "    }\n",
       "</style>\n",
       "<table border=\"1\" class=\"dataframe\">\n",
       "  <thead>\n",
       "    <tr style=\"text-align: right;\">\n",
       "      <th></th>\n",
       "      <th>Country</th>\n",
       "      <th>CountryCode</th>\n",
       "      <th>Province</th>\n",
       "      <th>City</th>\n",
       "      <th>CityCode</th>\n",
       "      <th>Lat</th>\n",
       "      <th>Lon</th>\n",
       "      <th>Cases</th>\n",
       "      <th>Status</th>\n",
       "    </tr>\n",
       "    <tr>\n",
       "      <th>Date</th>\n",
       "      <th></th>\n",
       "      <th></th>\n",
       "      <th></th>\n",
       "      <th></th>\n",
       "      <th></th>\n",
       "      <th></th>\n",
       "      <th></th>\n",
       "      <th></th>\n",
       "      <th></th>\n",
       "    </tr>\n",
       "  </thead>\n",
       "  <tbody>\n",
       "    <tr>\n",
       "      <th>2020-01-22 00:00:00+00:00</th>\n",
       "      <td>Dominican Republic</td>\n",
       "      <td>DO</td>\n",
       "      <td></td>\n",
       "      <td></td>\n",
       "      <td></td>\n",
       "      <td>18.74</td>\n",
       "      <td>-70.16</td>\n",
       "      <td>0</td>\n",
       "      <td>confirmed</td>\n",
       "    </tr>\n",
       "    <tr>\n",
       "      <th>2020-01-23 00:00:00+00:00</th>\n",
       "      <td>Dominican Republic</td>\n",
       "      <td>DO</td>\n",
       "      <td></td>\n",
       "      <td></td>\n",
       "      <td></td>\n",
       "      <td>18.74</td>\n",
       "      <td>-70.16</td>\n",
       "      <td>0</td>\n",
       "      <td>confirmed</td>\n",
       "    </tr>\n",
       "    <tr>\n",
       "      <th>2020-01-24 00:00:00+00:00</th>\n",
       "      <td>Dominican Republic</td>\n",
       "      <td>DO</td>\n",
       "      <td></td>\n",
       "      <td></td>\n",
       "      <td></td>\n",
       "      <td>18.74</td>\n",
       "      <td>-70.16</td>\n",
       "      <td>0</td>\n",
       "      <td>confirmed</td>\n",
       "    </tr>\n",
       "    <tr>\n",
       "      <th>2020-01-25 00:00:00+00:00</th>\n",
       "      <td>Dominican Republic</td>\n",
       "      <td>DO</td>\n",
       "      <td></td>\n",
       "      <td></td>\n",
       "      <td></td>\n",
       "      <td>18.74</td>\n",
       "      <td>-70.16</td>\n",
       "      <td>0</td>\n",
       "      <td>confirmed</td>\n",
       "    </tr>\n",
       "    <tr>\n",
       "      <th>2020-01-26 00:00:00+00:00</th>\n",
       "      <td>Dominican Republic</td>\n",
       "      <td>DO</td>\n",
       "      <td></td>\n",
       "      <td></td>\n",
       "      <td></td>\n",
       "      <td>18.74</td>\n",
       "      <td>-70.16</td>\n",
       "      <td>0</td>\n",
       "      <td>confirmed</td>\n",
       "    </tr>\n",
       "    <tr>\n",
       "      <th>...</th>\n",
       "      <td>...</td>\n",
       "      <td>...</td>\n",
       "      <td>...</td>\n",
       "      <td>...</td>\n",
       "      <td>...</td>\n",
       "      <td>...</td>\n",
       "      <td>...</td>\n",
       "      <td>...</td>\n",
       "      <td>...</td>\n",
       "    </tr>\n",
       "    <tr>\n",
       "      <th>2022-11-29 00:00:00+00:00</th>\n",
       "      <td>Dominican Republic</td>\n",
       "      <td>DO</td>\n",
       "      <td></td>\n",
       "      <td></td>\n",
       "      <td></td>\n",
       "      <td>18.74</td>\n",
       "      <td>-70.16</td>\n",
       "      <td>650381</td>\n",
       "      <td>confirmed</td>\n",
       "    </tr>\n",
       "    <tr>\n",
       "      <th>2022-11-30 00:00:00+00:00</th>\n",
       "      <td>Dominican Republic</td>\n",
       "      <td>DO</td>\n",
       "      <td></td>\n",
       "      <td></td>\n",
       "      <td></td>\n",
       "      <td>18.74</td>\n",
       "      <td>-70.16</td>\n",
       "      <td>650381</td>\n",
       "      <td>confirmed</td>\n",
       "    </tr>\n",
       "    <tr>\n",
       "      <th>2022-12-01 00:00:00+00:00</th>\n",
       "      <td>Dominican Republic</td>\n",
       "      <td>DO</td>\n",
       "      <td></td>\n",
       "      <td></td>\n",
       "      <td></td>\n",
       "      <td>18.74</td>\n",
       "      <td>-70.16</td>\n",
       "      <td>650381</td>\n",
       "      <td>confirmed</td>\n",
       "    </tr>\n",
       "    <tr>\n",
       "      <th>2022-12-02 00:00:00+00:00</th>\n",
       "      <td>Dominican Republic</td>\n",
       "      <td>DO</td>\n",
       "      <td></td>\n",
       "      <td></td>\n",
       "      <td></td>\n",
       "      <td>18.74</td>\n",
       "      <td>-70.16</td>\n",
       "      <td>650381</td>\n",
       "      <td>confirmed</td>\n",
       "    </tr>\n",
       "    <tr>\n",
       "      <th>2022-12-03 00:00:00+00:00</th>\n",
       "      <td>Dominican Republic</td>\n",
       "      <td>DO</td>\n",
       "      <td></td>\n",
       "      <td></td>\n",
       "      <td></td>\n",
       "      <td>18.74</td>\n",
       "      <td>-70.16</td>\n",
       "      <td>650990</td>\n",
       "      <td>confirmed</td>\n",
       "    </tr>\n",
       "  </tbody>\n",
       "</table>\n",
       "<p>1047 rows × 9 columns</p>\n",
       "</div>"
      ],
      "text/plain": [
       "                                      Country CountryCode Province City  \\\n",
       "Date                                                                      \n",
       "2020-01-22 00:00:00+00:00  Dominican Republic          DO                 \n",
       "2020-01-23 00:00:00+00:00  Dominican Republic          DO                 \n",
       "2020-01-24 00:00:00+00:00  Dominican Republic          DO                 \n",
       "2020-01-25 00:00:00+00:00  Dominican Republic          DO                 \n",
       "2020-01-26 00:00:00+00:00  Dominican Republic          DO                 \n",
       "...                                       ...         ...      ...  ...   \n",
       "2022-11-29 00:00:00+00:00  Dominican Republic          DO                 \n",
       "2022-11-30 00:00:00+00:00  Dominican Republic          DO                 \n",
       "2022-12-01 00:00:00+00:00  Dominican Republic          DO                 \n",
       "2022-12-02 00:00:00+00:00  Dominican Republic          DO                 \n",
       "2022-12-03 00:00:00+00:00  Dominican Republic          DO                 \n",
       "\n",
       "                          CityCode    Lat    Lon   Cases     Status  \n",
       "Date                                                                 \n",
       "2020-01-22 00:00:00+00:00           18.74 -70.16       0  confirmed  \n",
       "2020-01-23 00:00:00+00:00           18.74 -70.16       0  confirmed  \n",
       "2020-01-24 00:00:00+00:00           18.74 -70.16       0  confirmed  \n",
       "2020-01-25 00:00:00+00:00           18.74 -70.16       0  confirmed  \n",
       "2020-01-26 00:00:00+00:00           18.74 -70.16       0  confirmed  \n",
       "...                            ...    ...    ...     ...        ...  \n",
       "2022-11-29 00:00:00+00:00           18.74 -70.16  650381  confirmed  \n",
       "2022-11-30 00:00:00+00:00           18.74 -70.16  650381  confirmed  \n",
       "2022-12-01 00:00:00+00:00           18.74 -70.16  650381  confirmed  \n",
       "2022-12-02 00:00:00+00:00           18.74 -70.16  650381  confirmed  \n",
       "2022-12-03 00:00:00+00:00           18.74 -70.16  650990  confirmed  \n",
       "\n",
       "[1047 rows x 9 columns]"
      ]
     },
     "execution_count": 78,
     "metadata": {},
     "output_type": "execute_result"
    }
   ],
   "source": [
    "df_rep.set_index('Date')"
   ]
  },
  {
   "cell_type": "markdown",
   "id": "942aa537",
   "metadata": {},
   "source": [
    "Necesitamos una tabla que también refleje los casos confirmados, así que crearemos una vista en la que se pueda ver el número de casos confirmados por fecha."
   ]
  },
  {
   "cell_type": "code",
   "execution_count": 79,
   "id": "43537342",
   "metadata": {},
   "outputs": [
    {
     "data": {
      "text/plain": [
       "Date\n",
       "2020-01-22 00:00:00+00:00         0\n",
       "2020-01-23 00:00:00+00:00         0\n",
       "2020-01-24 00:00:00+00:00         0\n",
       "2020-01-25 00:00:00+00:00         0\n",
       "2020-01-26 00:00:00+00:00         0\n",
       "                              ...  \n",
       "2022-11-29 00:00:00+00:00    650381\n",
       "2022-11-30 00:00:00+00:00    650381\n",
       "2022-12-01 00:00:00+00:00    650381\n",
       "2022-12-02 00:00:00+00:00    650381\n",
       "2022-12-03 00:00:00+00:00    650990\n",
       "Name: Cases, Length: 1047, dtype: int64"
      ]
     },
     "execution_count": 79,
     "metadata": {},
     "output_type": "execute_result"
    }
   ],
   "source": [
    "df_rep.set_index('Date')['Cases']"
   ]
  },
  {
   "cell_type": "markdown",
   "id": "9c92df1a",
   "metadata": {},
   "source": [
    "Sobre esta vista creamos el gráfico a través de la función \"plot\"."
   ]
  },
  {
   "cell_type": "code",
   "execution_count": 80,
   "id": "9236d630",
   "metadata": {},
   "outputs": [
    {
     "data": {
      "text/plain": [
       "<AxesSubplot:xlabel='Date'>"
      ]
     },
     "execution_count": 80,
     "metadata": {},
     "output_type": "execute_result"
    },
    {
     "data": {
      "image/png": "[encoded data removed]",
      "text/plain": [
       "<Figure size 640x480 with 1 Axes>"
      ]
     },
     "metadata": {},
     "output_type": "display_data"
    }
   ],
   "source": [
    "df_rep.set_index('Date')['Cases'].plot()"
   ]
  },
  {
   "cell_type": "markdown",
   "id": "c2700c3a",
   "metadata": {},
   "source": [
    "Finalmente, le pondremos un nombre para que se vea mejor. Así:"
   ]
  },
  {
   "cell_type": "code",
   "execution_count": 81,
   "id": "e328055c",
   "metadata": {},
   "outputs": [
    {
     "data": {
      "text/plain": [
       "<AxesSubplot:title={'center':'Casos de Covid19 en República Dominicana'}, xlabel='Date'>"
      ]
     },
     "execution_count": 81,
     "metadata": {},
     "output_type": "execute_result"
    },
    {
     "data": {
      "image/png": "[encoded data removed]",
      "text/plain": [
       "<Figure size 640x480 with 1 Axes>"
      ]
     },
     "metadata": {},
     "output_type": "display_data"
    }
   ],
   "source": [
    "df_rep.set_index('Date')['Cases'].plot(title = \"Casos de Covid19 en República Dominicana\")"
   ]
  },
  {
   "cell_type": "markdown",
   "id": "0bd7ff1f",
   "metadata": {},
   "source": [
    "# Es el turno de España\n",
    "\n",
    "Para trabajar con los datos de España, utilizaremos la siguiente URL: https://api.covid19api.com/country/spain/status/confirmed/live\n",
    "\n",
    "Utilizaremos “df_esp” para identificar al país y de este modo no cometer errores. "
   ]
  },
  {
   "cell_type": "code",
   "execution_count": 82,
   "id": "207b38fa",
   "metadata": {},
   "outputs": [
    {
     "data": {
      "text/html": [
       "<div>\n",
       "<style scoped>\n",
       "    .dataframe tbody tr th:only-of-type {\n",
       "        vertical-align: middle;\n",
       "    }\n",
       "\n",
       "    .dataframe tbody tr th {\n",
       "        vertical-align: top;\n",
       "    }\n",
       "\n",
       "    .dataframe thead th {\n",
       "        text-align: right;\n",
       "    }\n",
       "</style>\n",
       "<table border=\"1\" class=\"dataframe\">\n",
       "  <thead>\n",
       "    <tr style=\"text-align: right;\">\n",
       "      <th></th>\n",
       "      <th>Country</th>\n",
       "      <th>CountryCode</th>\n",
       "      <th>Province</th>\n",
       "      <th>City</th>\n",
       "      <th>CityCode</th>\n",
       "      <th>Lat</th>\n",
       "      <th>Lon</th>\n",
       "      <th>Cases</th>\n",
       "      <th>Status</th>\n",
       "      <th>Date</th>\n",
       "    </tr>\n",
       "  </thead>\n",
       "  <tbody>\n",
       "    <tr>\n",
       "      <th>0</th>\n",
       "      <td>Spain</td>\n",
       "      <td>ES</td>\n",
       "      <td></td>\n",
       "      <td></td>\n",
       "      <td></td>\n",
       "      <td>40.46</td>\n",
       "      <td>-3.75</td>\n",
       "      <td>0</td>\n",
       "      <td>confirmed</td>\n",
       "      <td>2020-01-22 00:00:00+00:00</td>\n",
       "    </tr>\n",
       "    <tr>\n",
       "      <th>1</th>\n",
       "      <td>Spain</td>\n",
       "      <td>ES</td>\n",
       "      <td></td>\n",
       "      <td></td>\n",
       "      <td></td>\n",
       "      <td>40.46</td>\n",
       "      <td>-3.75</td>\n",
       "      <td>0</td>\n",
       "      <td>confirmed</td>\n",
       "      <td>2020-01-23 00:00:00+00:00</td>\n",
       "    </tr>\n",
       "    <tr>\n",
       "      <th>2</th>\n",
       "      <td>Spain</td>\n",
       "      <td>ES</td>\n",
       "      <td></td>\n",
       "      <td></td>\n",
       "      <td></td>\n",
       "      <td>40.46</td>\n",
       "      <td>-3.75</td>\n",
       "      <td>0</td>\n",
       "      <td>confirmed</td>\n",
       "      <td>2020-01-24 00:00:00+00:00</td>\n",
       "    </tr>\n",
       "    <tr>\n",
       "      <th>3</th>\n",
       "      <td>Spain</td>\n",
       "      <td>ES</td>\n",
       "      <td></td>\n",
       "      <td></td>\n",
       "      <td></td>\n",
       "      <td>40.46</td>\n",
       "      <td>-3.75</td>\n",
       "      <td>0</td>\n",
       "      <td>confirmed</td>\n",
       "      <td>2020-01-25 00:00:00+00:00</td>\n",
       "    </tr>\n",
       "    <tr>\n",
       "      <th>4</th>\n",
       "      <td>Spain</td>\n",
       "      <td>ES</td>\n",
       "      <td></td>\n",
       "      <td></td>\n",
       "      <td></td>\n",
       "      <td>40.46</td>\n",
       "      <td>-3.75</td>\n",
       "      <td>0</td>\n",
       "      <td>confirmed</td>\n",
       "      <td>2020-01-26 00:00:00+00:00</td>\n",
       "    </tr>\n",
       "    <tr>\n",
       "      <th>...</th>\n",
       "      <td>...</td>\n",
       "      <td>...</td>\n",
       "      <td>...</td>\n",
       "      <td>...</td>\n",
       "      <td>...</td>\n",
       "      <td>...</td>\n",
       "      <td>...</td>\n",
       "      <td>...</td>\n",
       "      <td>...</td>\n",
       "      <td>...</td>\n",
       "    </tr>\n",
       "    <tr>\n",
       "      <th>1042</th>\n",
       "      <td>Spain</td>\n",
       "      <td>ES</td>\n",
       "      <td></td>\n",
       "      <td></td>\n",
       "      <td></td>\n",
       "      <td>40.46</td>\n",
       "      <td>-3.75</td>\n",
       "      <td>13595504</td>\n",
       "      <td>confirmed</td>\n",
       "      <td>2022-11-29 00:00:00+00:00</td>\n",
       "    </tr>\n",
       "    <tr>\n",
       "      <th>1043</th>\n",
       "      <td>Spain</td>\n",
       "      <td>ES</td>\n",
       "      <td></td>\n",
       "      <td></td>\n",
       "      <td></td>\n",
       "      <td>40.46</td>\n",
       "      <td>-3.75</td>\n",
       "      <td>13595504</td>\n",
       "      <td>confirmed</td>\n",
       "      <td>2022-11-30 00:00:00+00:00</td>\n",
       "    </tr>\n",
       "    <tr>\n",
       "      <th>1044</th>\n",
       "      <td>Spain</td>\n",
       "      <td>ES</td>\n",
       "      <td></td>\n",
       "      <td></td>\n",
       "      <td></td>\n",
       "      <td>40.46</td>\n",
       "      <td>-3.75</td>\n",
       "      <td>13595504</td>\n",
       "      <td>confirmed</td>\n",
       "      <td>2022-12-01 00:00:00+00:00</td>\n",
       "    </tr>\n",
       "    <tr>\n",
       "      <th>1045</th>\n",
       "      <td>Spain</td>\n",
       "      <td>ES</td>\n",
       "      <td></td>\n",
       "      <td></td>\n",
       "      <td></td>\n",
       "      <td>40.46</td>\n",
       "      <td>-3.75</td>\n",
       "      <td>13614807</td>\n",
       "      <td>confirmed</td>\n",
       "      <td>2022-12-02 00:00:00+00:00</td>\n",
       "    </tr>\n",
       "    <tr>\n",
       "      <th>1046</th>\n",
       "      <td>Spain</td>\n",
       "      <td>ES</td>\n",
       "      <td></td>\n",
       "      <td></td>\n",
       "      <td></td>\n",
       "      <td>40.46</td>\n",
       "      <td>-3.75</td>\n",
       "      <td>13614807</td>\n",
       "      <td>confirmed</td>\n",
       "      <td>2022-12-03 00:00:00+00:00</td>\n",
       "    </tr>\n",
       "  </tbody>\n",
       "</table>\n",
       "<p>1047 rows × 10 columns</p>\n",
       "</div>"
      ],
      "text/plain": [
       "     Country CountryCode Province City CityCode    Lat   Lon     Cases  \\\n",
       "0      Spain          ES                         40.46 -3.75         0   \n",
       "1      Spain          ES                         40.46 -3.75         0   \n",
       "2      Spain          ES                         40.46 -3.75         0   \n",
       "3      Spain          ES                         40.46 -3.75         0   \n",
       "4      Spain          ES                         40.46 -3.75         0   \n",
       "...      ...         ...      ...  ...      ...    ...   ...       ...   \n",
       "1042   Spain          ES                         40.46 -3.75  13595504   \n",
       "1043   Spain          ES                         40.46 -3.75  13595504   \n",
       "1044   Spain          ES                         40.46 -3.75  13595504   \n",
       "1045   Spain          ES                         40.46 -3.75  13614807   \n",
       "1046   Spain          ES                         40.46 -3.75  13614807   \n",
       "\n",
       "         Status                      Date  \n",
       "0     confirmed 2020-01-22 00:00:00+00:00  \n",
       "1     confirmed 2020-01-23 00:00:00+00:00  \n",
       "2     confirmed 2020-01-24 00:00:00+00:00  \n",
       "3     confirmed 2020-01-25 00:00:00+00:00  \n",
       "4     confirmed 2020-01-26 00:00:00+00:00  \n",
       "...         ...                       ...  \n",
       "1042  confirmed 2022-11-29 00:00:00+00:00  \n",
       "1043  confirmed 2022-11-30 00:00:00+00:00  \n",
       "1044  confirmed 2022-12-01 00:00:00+00:00  \n",
       "1045  confirmed 2022-12-02 00:00:00+00:00  \n",
       "1046  confirmed 2022-12-03 00:00:00+00:00  \n",
       "\n",
       "[1047 rows x 10 columns]"
      ]
     },
     "execution_count": 82,
     "metadata": {},
     "output_type": "execute_result"
    }
   ],
   "source": [
    "url_esp = 'https://api.covid19api.com/country/spain/status/confirmed/live'\n",
    "df_esp = pd.read_json(url_esp)\n",
    "df_esp"
   ]
  },
  {
   "cell_type": "markdown",
   "id": "605301ce",
   "metadata": {},
   "source": [
    "## Exploración de datos\n",
    "\n",
    "Haremos la misma exploración de datos que ya hicimos en el caso de Colombia, Ecuador y República Dominicana.\n",
    "\n",
    "Iniciaremos por las columnas:"
   ]
  },
  {
   "cell_type": "code",
   "execution_count": 83,
   "id": "3db205f6",
   "metadata": {},
   "outputs": [
    {
     "data": {
      "text/plain": [
       "Index(['Country', 'CountryCode', 'Province', 'City', 'CityCode', 'Lat', 'Lon',\n",
       "       'Cases', 'Status', 'Date'],\n",
       "      dtype='object')"
      ]
     },
     "execution_count": 83,
     "metadata": {},
     "output_type": "execute_result"
    }
   ],
   "source": [
    "df_esp.columns"
   ]
  },
  {
   "cell_type": "markdown",
   "id": "536fe5b5",
   "metadata": {},
   "source": [
    "Para la cabecera digitaremos:"
   ]
  },
  {
   "cell_type": "code",
   "execution_count": 85,
   "id": "64329b45",
   "metadata": {},
   "outputs": [
    {
     "data": {
      "text/plain": [
       "<bound method NDFrame.head of      Country CountryCode Province City CityCode    Lat   Lon     Cases  \\\n",
       "0      Spain          ES                         40.46 -3.75         0   \n",
       "1      Spain          ES                         40.46 -3.75         0   \n",
       "2      Spain          ES                         40.46 -3.75         0   \n",
       "3      Spain          ES                         40.46 -3.75         0   \n",
       "4      Spain          ES                         40.46 -3.75         0   \n",
       "...      ...         ...      ...  ...      ...    ...   ...       ...   \n",
       "1042   Spain          ES                         40.46 -3.75  13595504   \n",
       "1043   Spain          ES                         40.46 -3.75  13595504   \n",
       "1044   Spain          ES                         40.46 -3.75  13595504   \n",
       "1045   Spain          ES                         40.46 -3.75  13614807   \n",
       "1046   Spain          ES                         40.46 -3.75  13614807   \n",
       "\n",
       "         Status                      Date  \n",
       "0     confirmed 2020-01-22 00:00:00+00:00  \n",
       "1     confirmed 2020-01-23 00:00:00+00:00  \n",
       "2     confirmed 2020-01-24 00:00:00+00:00  \n",
       "3     confirmed 2020-01-25 00:00:00+00:00  \n",
       "4     confirmed 2020-01-26 00:00:00+00:00  \n",
       "...         ...                       ...  \n",
       "1042  confirmed 2022-11-29 00:00:00+00:00  \n",
       "1043  confirmed 2022-11-30 00:00:00+00:00  \n",
       "1044  confirmed 2022-12-01 00:00:00+00:00  \n",
       "1045  confirmed 2022-12-02 00:00:00+00:00  \n",
       "1046  confirmed 2022-12-03 00:00:00+00:00  \n",
       "\n",
       "[1047 rows x 10 columns]>"
      ]
     },
     "execution_count": 85,
     "metadata": {},
     "output_type": "execute_result"
    }
   ],
   "source": [
    "df_esp.head"
   ]
  },
  {
   "cell_type": "markdown",
   "id": "8b706ccd",
   "metadata": {},
   "source": [
    "Mientras que para la cola:"
   ]
  },
  {
   "cell_type": "code",
   "execution_count": 86,
   "id": "7a0d1ad4",
   "metadata": {},
   "outputs": [
    {
     "data": {
      "text/plain": [
       "<bound method NDFrame.tail of      Country CountryCode Province City CityCode    Lat   Lon     Cases  \\\n",
       "0      Spain          ES                         40.46 -3.75         0   \n",
       "1      Spain          ES                         40.46 -3.75         0   \n",
       "2      Spain          ES                         40.46 -3.75         0   \n",
       "3      Spain          ES                         40.46 -3.75         0   \n",
       "4      Spain          ES                         40.46 -3.75         0   \n",
       "...      ...         ...      ...  ...      ...    ...   ...       ...   \n",
       "1042   Spain          ES                         40.46 -3.75  13595504   \n",
       "1043   Spain          ES                         40.46 -3.75  13595504   \n",
       "1044   Spain          ES                         40.46 -3.75  13595504   \n",
       "1045   Spain          ES                         40.46 -3.75  13614807   \n",
       "1046   Spain          ES                         40.46 -3.75  13614807   \n",
       "\n",
       "         Status                      Date  \n",
       "0     confirmed 2020-01-22 00:00:00+00:00  \n",
       "1     confirmed 2020-01-23 00:00:00+00:00  \n",
       "2     confirmed 2020-01-24 00:00:00+00:00  \n",
       "3     confirmed 2020-01-25 00:00:00+00:00  \n",
       "4     confirmed 2020-01-26 00:00:00+00:00  \n",
       "...         ...                       ...  \n",
       "1042  confirmed 2022-11-29 00:00:00+00:00  \n",
       "1043  confirmed 2022-11-30 00:00:00+00:00  \n",
       "1044  confirmed 2022-12-01 00:00:00+00:00  \n",
       "1045  confirmed 2022-12-02 00:00:00+00:00  \n",
       "1046  confirmed 2022-12-03 00:00:00+00:00  \n",
       "\n",
       "[1047 rows x 10 columns]>"
      ]
     },
     "execution_count": 86,
     "metadata": {},
     "output_type": "execute_result"
    }
   ],
   "source": [
    "df_esp.tail"
   ]
  },
  {
   "cell_type": "markdown",
   "id": "c6cbcb54",
   "metadata": {},
   "source": [
    "Información sobre variables"
   ]
  },
  {
   "cell_type": "code",
   "execution_count": 87,
   "id": "c1c23ec2",
   "metadata": {},
   "outputs": [
    {
     "data": {
      "text/plain": [
       "<bound method DataFrame.info of      Country CountryCode Province City CityCode    Lat   Lon     Cases  \\\n",
       "0      Spain          ES                         40.46 -3.75         0   \n",
       "1      Spain          ES                         40.46 -3.75         0   \n",
       "2      Spain          ES                         40.46 -3.75         0   \n",
       "3      Spain          ES                         40.46 -3.75         0   \n",
       "4      Spain          ES                         40.46 -3.75         0   \n",
       "...      ...         ...      ...  ...      ...    ...   ...       ...   \n",
       "1042   Spain          ES                         40.46 -3.75  13595504   \n",
       "1043   Spain          ES                         40.46 -3.75  13595504   \n",
       "1044   Spain          ES                         40.46 -3.75  13595504   \n",
       "1045   Spain          ES                         40.46 -3.75  13614807   \n",
       "1046   Spain          ES                         40.46 -3.75  13614807   \n",
       "\n",
       "         Status                      Date  \n",
       "0     confirmed 2020-01-22 00:00:00+00:00  \n",
       "1     confirmed 2020-01-23 00:00:00+00:00  \n",
       "2     confirmed 2020-01-24 00:00:00+00:00  \n",
       "3     confirmed 2020-01-25 00:00:00+00:00  \n",
       "4     confirmed 2020-01-26 00:00:00+00:00  \n",
       "...         ...                       ...  \n",
       "1042  confirmed 2022-11-29 00:00:00+00:00  \n",
       "1043  confirmed 2022-11-30 00:00:00+00:00  \n",
       "1044  confirmed 2022-12-01 00:00:00+00:00  \n",
       "1045  confirmed 2022-12-02 00:00:00+00:00  \n",
       "1046  confirmed 2022-12-03 00:00:00+00:00  \n",
       "\n",
       "[1047 rows x 10 columns]>"
      ]
     },
     "execution_count": 87,
     "metadata": {},
     "output_type": "execute_result"
    }
   ],
   "source": [
    "df_esp.info"
   ]
  },
  {
   "cell_type": "markdown",
   "id": "27f2ced3",
   "metadata": {},
   "source": [
    "Para obtener una descripción estadística de las variables numéricas del dataframe (obtenemos el número total, la media, la desviación, el mínimo y máximo y los cuartiles):"
   ]
  },
  {
   "cell_type": "code",
   "execution_count": 89,
   "id": "8c42ebc4",
   "metadata": {},
   "outputs": [
    {
     "data": {
      "text/plain": [
       "<bound method NDFrame.describe of      Country CountryCode Province City CityCode    Lat   Lon     Cases  \\\n",
       "0      Spain          ES                         40.46 -3.75         0   \n",
       "1      Spain          ES                         40.46 -3.75         0   \n",
       "2      Spain          ES                         40.46 -3.75         0   \n",
       "3      Spain          ES                         40.46 -3.75         0   \n",
       "4      Spain          ES                         40.46 -3.75         0   \n",
       "...      ...         ...      ...  ...      ...    ...   ...       ...   \n",
       "1042   Spain          ES                         40.46 -3.75  13595504   \n",
       "1043   Spain          ES                         40.46 -3.75  13595504   \n",
       "1044   Spain          ES                         40.46 -3.75  13595504   \n",
       "1045   Spain          ES                         40.46 -3.75  13614807   \n",
       "1046   Spain          ES                         40.46 -3.75  13614807   \n",
       "\n",
       "         Status                      Date  \n",
       "0     confirmed 2020-01-22 00:00:00+00:00  \n",
       "1     confirmed 2020-01-23 00:00:00+00:00  \n",
       "2     confirmed 2020-01-24 00:00:00+00:00  \n",
       "3     confirmed 2020-01-25 00:00:00+00:00  \n",
       "4     confirmed 2020-01-26 00:00:00+00:00  \n",
       "...         ...                       ...  \n",
       "1042  confirmed 2022-11-29 00:00:00+00:00  \n",
       "1043  confirmed 2022-11-30 00:00:00+00:00  \n",
       "1044  confirmed 2022-12-01 00:00:00+00:00  \n",
       "1045  confirmed 2022-12-02 00:00:00+00:00  \n",
       "1046  confirmed 2022-12-03 00:00:00+00:00  \n",
       "\n",
       "[1047 rows x 10 columns]>"
      ]
     },
     "execution_count": 89,
     "metadata": {},
     "output_type": "execute_result"
    }
   ],
   "source": [
    "df_esp.describe"
   ]
  },
  {
   "cell_type": "markdown",
   "id": "49700e14",
   "metadata": {},
   "source": [
    "## Elaboración del gráfico para España\n",
    "\n",
    "Repetimos el mismo procedimiento de antes. Queremos que en el eje X esté la fecha y en el eje Y los datos confirmados. Para conseguirlo pondremos la fecha como índice de la función. Esto hace que nuestras entradas se identifiquen por la fecha y no por el índice que le había dado Pandas en un inicio."
   ]
  },
  {
   "cell_type": "code",
   "execution_count": 90,
   "id": "2fb46699",
   "metadata": {},
   "outputs": [
    {
     "data": {
      "text/html": [
       "<div>\n",
       "<style scoped>\n",
       "    .dataframe tbody tr th:only-of-type {\n",
       "        vertical-align: middle;\n",
       "    }\n",
       "\n",
       "    .dataframe tbody tr th {\n",
       "        vertical-align: top;\n",
       "    }\n",
       "\n",
       "    .dataframe thead th {\n",
       "        text-align: right;\n",
       "    }\n",
       "</style>\n",
       "<table border=\"1\" class=\"dataframe\">\n",
       "  <thead>\n",
       "    <tr style=\"text-align: right;\">\n",
       "      <th></th>\n",
       "      <th>Country</th>\n",
       "      <th>CountryCode</th>\n",
       "      <th>Province</th>\n",
       "      <th>City</th>\n",
       "      <th>CityCode</th>\n",
       "      <th>Lat</th>\n",
       "      <th>Lon</th>\n",
       "      <th>Cases</th>\n",
       "      <th>Status</th>\n",
       "    </tr>\n",
       "    <tr>\n",
       "      <th>Date</th>\n",
       "      <th></th>\n",
       "      <th></th>\n",
       "      <th></th>\n",
       "      <th></th>\n",
       "      <th></th>\n",
       "      <th></th>\n",
       "      <th></th>\n",
       "      <th></th>\n",
       "      <th></th>\n",
       "    </tr>\n",
       "  </thead>\n",
       "  <tbody>\n",
       "    <tr>\n",
       "      <th>2020-01-22 00:00:00+00:00</th>\n",
       "      <td>Spain</td>\n",
       "      <td>ES</td>\n",
       "      <td></td>\n",
       "      <td></td>\n",
       "      <td></td>\n",
       "      <td>40.46</td>\n",
       "      <td>-3.75</td>\n",
       "      <td>0</td>\n",
       "      <td>confirmed</td>\n",
       "    </tr>\n",
       "    <tr>\n",
       "      <th>2020-01-23 00:00:00+00:00</th>\n",
       "      <td>Spain</td>\n",
       "      <td>ES</td>\n",
       "      <td></td>\n",
       "      <td></td>\n",
       "      <td></td>\n",
       "      <td>40.46</td>\n",
       "      <td>-3.75</td>\n",
       "      <td>0</td>\n",
       "      <td>confirmed</td>\n",
       "    </tr>\n",
       "    <tr>\n",
       "      <th>2020-01-24 00:00:00+00:00</th>\n",
       "      <td>Spain</td>\n",
       "      <td>ES</td>\n",
       "      <td></td>\n",
       "      <td></td>\n",
       "      <td></td>\n",
       "      <td>40.46</td>\n",
       "      <td>-3.75</td>\n",
       "      <td>0</td>\n",
       "      <td>confirmed</td>\n",
       "    </tr>\n",
       "    <tr>\n",
       "      <th>2020-01-25 00:00:00+00:00</th>\n",
       "      <td>Spain</td>\n",
       "      <td>ES</td>\n",
       "      <td></td>\n",
       "      <td></td>\n",
       "      <td></td>\n",
       "      <td>40.46</td>\n",
       "      <td>-3.75</td>\n",
       "      <td>0</td>\n",
       "      <td>confirmed</td>\n",
       "    </tr>\n",
       "    <tr>\n",
       "      <th>2020-01-26 00:00:00+00:00</th>\n",
       "      <td>Spain</td>\n",
       "      <td>ES</td>\n",
       "      <td></td>\n",
       "      <td></td>\n",
       "      <td></td>\n",
       "      <td>40.46</td>\n",
       "      <td>-3.75</td>\n",
       "      <td>0</td>\n",
       "      <td>confirmed</td>\n",
       "    </tr>\n",
       "    <tr>\n",
       "      <th>...</th>\n",
       "      <td>...</td>\n",
       "      <td>...</td>\n",
       "      <td>...</td>\n",
       "      <td>...</td>\n",
       "      <td>...</td>\n",
       "      <td>...</td>\n",
       "      <td>...</td>\n",
       "      <td>...</td>\n",
       "      <td>...</td>\n",
       "    </tr>\n",
       "    <tr>\n",
       "      <th>2022-11-29 00:00:00+00:00</th>\n",
       "      <td>Spain</td>\n",
       "      <td>ES</td>\n",
       "      <td></td>\n",
       "      <td></td>\n",
       "      <td></td>\n",
       "      <td>40.46</td>\n",
       "      <td>-3.75</td>\n",
       "      <td>13595504</td>\n",
       "      <td>confirmed</td>\n",
       "    </tr>\n",
       "    <tr>\n",
       "      <th>2022-11-30 00:00:00+00:00</th>\n",
       "      <td>Spain</td>\n",
       "      <td>ES</td>\n",
       "      <td></td>\n",
       "      <td></td>\n",
       "      <td></td>\n",
       "      <td>40.46</td>\n",
       "      <td>-3.75</td>\n",
       "      <td>13595504</td>\n",
       "      <td>confirmed</td>\n",
       "    </tr>\n",
       "    <tr>\n",
       "      <th>2022-12-01 00:00:00+00:00</th>\n",
       "      <td>Spain</td>\n",
       "      <td>ES</td>\n",
       "      <td></td>\n",
       "      <td></td>\n",
       "      <td></td>\n",
       "      <td>40.46</td>\n",
       "      <td>-3.75</td>\n",
       "      <td>13595504</td>\n",
       "      <td>confirmed</td>\n",
       "    </tr>\n",
       "    <tr>\n",
       "      <th>2022-12-02 00:00:00+00:00</th>\n",
       "      <td>Spain</td>\n",
       "      <td>ES</td>\n",
       "      <td></td>\n",
       "      <td></td>\n",
       "      <td></td>\n",
       "      <td>40.46</td>\n",
       "      <td>-3.75</td>\n",
       "      <td>13614807</td>\n",
       "      <td>confirmed</td>\n",
       "    </tr>\n",
       "    <tr>\n",
       "      <th>2022-12-03 00:00:00+00:00</th>\n",
       "      <td>Spain</td>\n",
       "      <td>ES</td>\n",
       "      <td></td>\n",
       "      <td></td>\n",
       "      <td></td>\n",
       "      <td>40.46</td>\n",
       "      <td>-3.75</td>\n",
       "      <td>13614807</td>\n",
       "      <td>confirmed</td>\n",
       "    </tr>\n",
       "  </tbody>\n",
       "</table>\n",
       "<p>1047 rows × 9 columns</p>\n",
       "</div>"
      ],
      "text/plain": [
       "                          Country CountryCode Province City CityCode    Lat  \\\n",
       "Date                                                                          \n",
       "2020-01-22 00:00:00+00:00   Spain          ES                         40.46   \n",
       "2020-01-23 00:00:00+00:00   Spain          ES                         40.46   \n",
       "2020-01-24 00:00:00+00:00   Spain          ES                         40.46   \n",
       "2020-01-25 00:00:00+00:00   Spain          ES                         40.46   \n",
       "2020-01-26 00:00:00+00:00   Spain          ES                         40.46   \n",
       "...                           ...         ...      ...  ...      ...    ...   \n",
       "2022-11-29 00:00:00+00:00   Spain          ES                         40.46   \n",
       "2022-11-30 00:00:00+00:00   Spain          ES                         40.46   \n",
       "2022-12-01 00:00:00+00:00   Spain          ES                         40.46   \n",
       "2022-12-02 00:00:00+00:00   Spain          ES                         40.46   \n",
       "2022-12-03 00:00:00+00:00   Spain          ES                         40.46   \n",
       "\n",
       "                            Lon     Cases     Status  \n",
       "Date                                                  \n",
       "2020-01-22 00:00:00+00:00 -3.75         0  confirmed  \n",
       "2020-01-23 00:00:00+00:00 -3.75         0  confirmed  \n",
       "2020-01-24 00:00:00+00:00 -3.75         0  confirmed  \n",
       "2020-01-25 00:00:00+00:00 -3.75         0  confirmed  \n",
       "2020-01-26 00:00:00+00:00 -3.75         0  confirmed  \n",
       "...                         ...       ...        ...  \n",
       "2022-11-29 00:00:00+00:00 -3.75  13595504  confirmed  \n",
       "2022-11-30 00:00:00+00:00 -3.75  13595504  confirmed  \n",
       "2022-12-01 00:00:00+00:00 -3.75  13595504  confirmed  \n",
       "2022-12-02 00:00:00+00:00 -3.75  13614807  confirmed  \n",
       "2022-12-03 00:00:00+00:00 -3.75  13614807  confirmed  \n",
       "\n",
       "[1047 rows x 9 columns]"
      ]
     },
     "execution_count": 90,
     "metadata": {},
     "output_type": "execute_result"
    }
   ],
   "source": [
    "df_esp.set_index('Date')"
   ]
  },
  {
   "cell_type": "markdown",
   "id": "ff973262",
   "metadata": {},
   "source": [
    "Si quisiéramos ver los casos confirmados de España en una tabla tendríamos que crear una vista en la que se pueda ver el número de casos confirmados por fecha. Así:"
   ]
  },
  {
   "cell_type": "code",
   "execution_count": 92,
   "id": "bbb2018b",
   "metadata": {},
   "outputs": [
    {
     "data": {
      "text/plain": [
       "Date\n",
       "2020-01-22 00:00:00+00:00           0\n",
       "2020-01-23 00:00:00+00:00           0\n",
       "2020-01-24 00:00:00+00:00           0\n",
       "2020-01-25 00:00:00+00:00           0\n",
       "2020-01-26 00:00:00+00:00           0\n",
       "                               ...   \n",
       "2022-11-29 00:00:00+00:00    13595504\n",
       "2022-11-30 00:00:00+00:00    13595504\n",
       "2022-12-01 00:00:00+00:00    13595504\n",
       "2022-12-02 00:00:00+00:00    13614807\n",
       "2022-12-03 00:00:00+00:00    13614807\n",
       "Name: Cases, Length: 1047, dtype: int64"
      ]
     },
     "execution_count": 92,
     "metadata": {},
     "output_type": "execute_result"
    }
   ],
   "source": [
    "df_esp.set_index('Date')['Cases']"
   ]
  },
  {
   "cell_type": "markdown",
   "id": "635c56bf",
   "metadata": {},
   "source": [
    "Sobre esta vista creamos el gráfico a través de la función \"plot\"."
   ]
  },
  {
   "cell_type": "code",
   "execution_count": 93,
   "id": "62a95dce",
   "metadata": {},
   "outputs": [
    {
     "data": {
      "text/plain": [
       "<AxesSubplot:xlabel='Date'>"
      ]
     },
     "execution_count": 93,
     "metadata": {},
     "output_type": "execute_result"
    },
    {
     "data": {
      "image/png": "[encoded data removed]",
      "text/plain": [
       "<Figure size 640x480 with 1 Axes>"
      ]
     },
     "metadata": {},
     "output_type": "display_data"
    }
   ],
   "source": [
    "df_esp.set_index('Date')['Cases'].plot()"
   ]
  },
  {
   "cell_type": "markdown",
   "id": "28b7a7c6",
   "metadata": {},
   "source": [
    "Terminaremos pondiendo un nombre al gráfico."
   ]
  },
  {
   "cell_type": "markdown",
   "id": "559f2706",
   "metadata": {},
   "source": [
    "El nombre se pone con el atributo title. Así:"
   ]
  },
  {
   "cell_type": "code",
   "execution_count": 95,
   "id": "133e7ddd",
   "metadata": {},
   "outputs": [
    {
     "data": {
      "text/plain": [
       "<AxesSubplot:title={'center':'Casos de Covid19 en España'}, xlabel='Date'>"
      ]
     },
     "execution_count": 95,
     "metadata": {},
     "output_type": "execute_result"
    },
    {
     "data": {
      "image/png": "[encoded data removed]",
      "text/plain": [
       "<Figure size 640x480 with 1 Axes>"
      ]
     },
     "metadata": {},
     "output_type": "display_data"
    }
   ],
   "source": [
    "df_esp.set_index('Date')['Cases'].plot(title = \"Casos de Covid19 en España\")"
   ]
  }
 ],
 "metadata": {
  "kernelspec": {
   "display_name": "Python 3 (ipykernel)",
   "language": "python",
   "name": "python3"
  },
  "language_info": {
   "codemirror_mode": {
    "name": "ipython",
    "version": 3
   },
   "file_extension": ".py",
   "mimetype": "text/x-python",
   "name": "python",
   "nbconvert_exporter": "python",
   "pygments_lexer": "ipython3",
   "version": "3.9.13"
  }
 },
 "nbformat": 4,
 "nbformat_minor": 5
}
